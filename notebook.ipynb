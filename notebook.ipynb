{
  "cells": [
    {
      "cell_type": "markdown",
      "id": "254e060a",
      "metadata": {
        "id": "254e060a"
      },
      "source": [
        "<img src=\"https://datascibr.notion.site/image/https%3A%2F%2Fs3-us-west-2.amazonaws.com%2Fsecure.notion-static.com%2F1e2981f8-e996-4b65-bc32-dd43c6c13d0d%2Fhackathon1.png?table=block&id=69f5ee7f-c32d-49cb-b2b8-fa475342c579&spaceId=b0ad94d1-b13d-42e8-93ff-04ffcc74dc68&width=2000&userId=&cache=v2\" style=\"height: 250px\" />"
      ]
    },
    {
      "cell_type": "markdown",
      "id": "b226f6c4",
      "metadata": {
        "id": "b226f6c4"
      },
      "source": [
        "### Resolução das principais etapas em Python"
      ]
    },
    {
      "cell_type": "code",
      "execution_count": 2,
      "id": "f05224a2",
      "metadata": {
        "id": "f05224a2"
      },
      "outputs": [],
      "source": [
        "import pandas as pd\n",
        "import plotly.express as px\n",
        "import warnings\n",
        "warnings.filterwarnings(\"ignore\")"
      ]
    },
    {
      "cell_type": "code",
      "execution_count": 3,
      "id": "ce57feb2",
      "metadata": {
        "colab": {
          "base_uri": "https://localhost:8080/",
          "height": 206
        },
        "id": "ce57feb2",
        "outputId": "6a6cb0a1-fd02-4126-fc4d-cb66cfdd254d"
      },
      "outputs": [
        {
          "data": {
            "text/html": [
              "<div>\n",
              "<style scoped>\n",
              "    .dataframe tbody tr th:only-of-type {\n",
              "        vertical-align: middle;\n",
              "    }\n",
              "\n",
              "    .dataframe tbody tr th {\n",
              "        vertical-align: top;\n",
              "    }\n",
              "\n",
              "    .dataframe thead th {\n",
              "        text-align: right;\n",
              "    }\n",
              "</style>\n",
              "<table border=\"1\" class=\"dataframe\">\n",
              "  <thead>\n",
              "    <tr style=\"text-align: right;\">\n",
              "      <th></th>\n",
              "      <th>Unnamed: 0</th>\n",
              "      <th>dim_loj_nome</th>\n",
              "      <th>dim_loj_estado</th>\n",
              "      <th>dim_pro_nome</th>\n",
              "      <th>dim_pro_categoria</th>\n",
              "      <th>dim_pro_familia</th>\n",
              "      <th>dim_tem_dia</th>\n",
              "      <th>dim_tem_mes</th>\n",
              "      <th>dim_tem_ano</th>\n",
              "      <th>fat_ven_quantidade</th>\n",
              "      <th>fat_ven_faturamento</th>\n",
              "    </tr>\n",
              "  </thead>\n",
              "  <tbody>\n",
              "    <tr>\n",
              "      <th>0</th>\n",
              "      <td>0</td>\n",
              "      <td>LOJA1</td>\n",
              "      <td>BA</td>\n",
              "      <td>P1</td>\n",
              "      <td>CAT1</td>\n",
              "      <td>F1</td>\n",
              "      <td>15</td>\n",
              "      <td>1</td>\n",
              "      <td>1999</td>\n",
              "      <td>10.0</td>\n",
              "      <td>20.0</td>\n",
              "    </tr>\n",
              "    <tr>\n",
              "      <th>1</th>\n",
              "      <td>1</td>\n",
              "      <td>LOJA1</td>\n",
              "      <td>BA</td>\n",
              "      <td>P2</td>\n",
              "      <td>CAT1</td>\n",
              "      <td>F1</td>\n",
              "      <td>15</td>\n",
              "      <td>1</td>\n",
              "      <td>1999</td>\n",
              "      <td>30.0</td>\n",
              "      <td>40.0</td>\n",
              "    </tr>\n",
              "    <tr>\n",
              "      <th>2</th>\n",
              "      <td>2</td>\n",
              "      <td>LOJA1</td>\n",
              "      <td>BA</td>\n",
              "      <td>P3</td>\n",
              "      <td>CAT1</td>\n",
              "      <td>F1</td>\n",
              "      <td>15</td>\n",
              "      <td>1</td>\n",
              "      <td>1999</td>\n",
              "      <td>10.0</td>\n",
              "      <td>20.0</td>\n",
              "    </tr>\n",
              "    <tr>\n",
              "      <th>3</th>\n",
              "      <td>3</td>\n",
              "      <td>LOJA1</td>\n",
              "      <td>BA</td>\n",
              "      <td>P1</td>\n",
              "      <td>CAT1</td>\n",
              "      <td>F1</td>\n",
              "      <td>15</td>\n",
              "      <td>2</td>\n",
              "      <td>1999</td>\n",
              "      <td>10.0</td>\n",
              "      <td>20.0</td>\n",
              "    </tr>\n",
              "    <tr>\n",
              "      <th>4</th>\n",
              "      <td>4</td>\n",
              "      <td>LOJA1</td>\n",
              "      <td>BA</td>\n",
              "      <td>P2</td>\n",
              "      <td>CAT1</td>\n",
              "      <td>F1</td>\n",
              "      <td>15</td>\n",
              "      <td>2</td>\n",
              "      <td>1999</td>\n",
              "      <td>30.0</td>\n",
              "      <td>40.0</td>\n",
              "    </tr>\n",
              "  </tbody>\n",
              "</table>\n",
              "</div>"
            ],
            "text/plain": [
              "   Unnamed: 0 dim_loj_nome dim_loj_estado dim_pro_nome dim_pro_categoria  \\\n",
              "0           0        LOJA1             BA           P1              CAT1   \n",
              "1           1        LOJA1             BA           P2              CAT1   \n",
              "2           2        LOJA1             BA           P3              CAT1   \n",
              "3           3        LOJA1             BA           P1              CAT1   \n",
              "4           4        LOJA1             BA           P2              CAT1   \n",
              "\n",
              "  dim_pro_familia  dim_tem_dia  dim_tem_mes  dim_tem_ano  fat_ven_quantidade  \\\n",
              "0            F1             15            1         1999                10.0   \n",
              "1            F1             15            1         1999                30.0   \n",
              "2            F1             15            1         1999                10.0   \n",
              "3            F1             15            2         1999                10.0   \n",
              "4            F1             15            2         1999                30.0   \n",
              "\n",
              "   fat_ven_faturamento  \n",
              "0                 20.0  \n",
              "1                 40.0  \n",
              "2                 20.0  \n",
              "3                 20.0  \n",
              "4                 40.0  "
            ]
          },
          "execution_count": 3,
          "metadata": {},
          "output_type": "execute_result"
        }
      ],
      "source": [
        "df = pd.read_csv('data/dw_vendas.csv')\n",
        "df.head()"
      ]
    },
    {
      "cell_type": "markdown",
      "id": "054e73d7",
      "metadata": {
        "id": "054e73d7"
      },
      "source": [
        "### Etapa 03\n"
      ]
    },
    {
      "cell_type": "markdown",
      "id": "84286049",
      "metadata": {
        "id": "84286049"
      },
      "source": [
        "- Listar os estados da dimensão DIM_LOJA"
      ]
    },
    {
      "cell_type": "code",
      "execution_count": 4,
      "id": "a00f3897",
      "metadata": {
        "colab": {
          "base_uri": "https://localhost:8080/",
          "height": 1000
        },
        "id": "a00f3897",
        "outputId": "3af721ec-de83-4b4d-af80-dba59ce2fab8"
      },
      "outputs": [
        {
          "data": {
            "text/html": [
              "<div>\n",
              "<style scoped>\n",
              "    .dataframe tbody tr th:only-of-type {\n",
              "        vertical-align: middle;\n",
              "    }\n",
              "\n",
              "    .dataframe tbody tr th {\n",
              "        vertical-align: top;\n",
              "    }\n",
              "\n",
              "    .dataframe thead th {\n",
              "        text-align: right;\n",
              "    }\n",
              "</style>\n",
              "<table border=\"1\" class=\"dataframe\">\n",
              "  <thead>\n",
              "    <tr style=\"text-align: right;\">\n",
              "      <th></th>\n",
              "      <th>dim_loj_nome</th>\n",
              "      <th>dim_loj_estado</th>\n",
              "    </tr>\n",
              "  </thead>\n",
              "  <tbody>\n",
              "    <tr>\n",
              "      <th>0</th>\n",
              "      <td>LOJA1</td>\n",
              "      <td>BA</td>\n",
              "    </tr>\n",
              "    <tr>\n",
              "      <th>1</th>\n",
              "      <td>LOJA1</td>\n",
              "      <td>BA</td>\n",
              "    </tr>\n",
              "    <tr>\n",
              "      <th>2</th>\n",
              "      <td>LOJA1</td>\n",
              "      <td>BA</td>\n",
              "    </tr>\n",
              "    <tr>\n",
              "      <th>3</th>\n",
              "      <td>LOJA1</td>\n",
              "      <td>BA</td>\n",
              "    </tr>\n",
              "    <tr>\n",
              "      <th>4</th>\n",
              "      <td>LOJA1</td>\n",
              "      <td>BA</td>\n",
              "    </tr>\n",
              "    <tr>\n",
              "      <th>5</th>\n",
              "      <td>LOJA1</td>\n",
              "      <td>BA</td>\n",
              "    </tr>\n",
              "    <tr>\n",
              "      <th>6</th>\n",
              "      <td>LOJA2</td>\n",
              "      <td>BA</td>\n",
              "    </tr>\n",
              "    <tr>\n",
              "      <th>7</th>\n",
              "      <td>LOJA2</td>\n",
              "      <td>BA</td>\n",
              "    </tr>\n",
              "    <tr>\n",
              "      <th>8</th>\n",
              "      <td>LOJA2</td>\n",
              "      <td>BA</td>\n",
              "    </tr>\n",
              "    <tr>\n",
              "      <th>9</th>\n",
              "      <td>LOJA2</td>\n",
              "      <td>BA</td>\n",
              "    </tr>\n",
              "    <tr>\n",
              "      <th>10</th>\n",
              "      <td>LOJA2</td>\n",
              "      <td>BA</td>\n",
              "    </tr>\n",
              "    <tr>\n",
              "      <th>11</th>\n",
              "      <td>LOJA3</td>\n",
              "      <td>PB</td>\n",
              "    </tr>\n",
              "    <tr>\n",
              "      <th>12</th>\n",
              "      <td>LOJA3</td>\n",
              "      <td>PB</td>\n",
              "    </tr>\n",
              "    <tr>\n",
              "      <th>13</th>\n",
              "      <td>LOJA3</td>\n",
              "      <td>PB</td>\n",
              "    </tr>\n",
              "    <tr>\n",
              "      <th>14</th>\n",
              "      <td>LOJA3</td>\n",
              "      <td>PB</td>\n",
              "    </tr>\n",
              "    <tr>\n",
              "      <th>15</th>\n",
              "      <td>LOJA3</td>\n",
              "      <td>PB</td>\n",
              "    </tr>\n",
              "    <tr>\n",
              "      <th>16</th>\n",
              "      <td>LOJA1</td>\n",
              "      <td>BA</td>\n",
              "    </tr>\n",
              "    <tr>\n",
              "      <th>17</th>\n",
              "      <td>LOJA1</td>\n",
              "      <td>BA</td>\n",
              "    </tr>\n",
              "    <tr>\n",
              "      <th>18</th>\n",
              "      <td>LOJA1</td>\n",
              "      <td>BA</td>\n",
              "    </tr>\n",
              "    <tr>\n",
              "      <th>19</th>\n",
              "      <td>LOJA1</td>\n",
              "      <td>BA</td>\n",
              "    </tr>\n",
              "    <tr>\n",
              "      <th>20</th>\n",
              "      <td>LOJA1</td>\n",
              "      <td>BA</td>\n",
              "    </tr>\n",
              "    <tr>\n",
              "      <th>21</th>\n",
              "      <td>LOJA1</td>\n",
              "      <td>BA</td>\n",
              "    </tr>\n",
              "    <tr>\n",
              "      <th>22</th>\n",
              "      <td>LOJA2</td>\n",
              "      <td>BA</td>\n",
              "    </tr>\n",
              "    <tr>\n",
              "      <th>23</th>\n",
              "      <td>LOJA2</td>\n",
              "      <td>BA</td>\n",
              "    </tr>\n",
              "    <tr>\n",
              "      <th>24</th>\n",
              "      <td>LOJA2</td>\n",
              "      <td>BA</td>\n",
              "    </tr>\n",
              "    <tr>\n",
              "      <th>25</th>\n",
              "      <td>LOJA2</td>\n",
              "      <td>BA</td>\n",
              "    </tr>\n",
              "    <tr>\n",
              "      <th>26</th>\n",
              "      <td>LOJA2</td>\n",
              "      <td>BA</td>\n",
              "    </tr>\n",
              "    <tr>\n",
              "      <th>27</th>\n",
              "      <td>LOJA3</td>\n",
              "      <td>PB</td>\n",
              "    </tr>\n",
              "    <tr>\n",
              "      <th>28</th>\n",
              "      <td>LOJA3</td>\n",
              "      <td>PB</td>\n",
              "    </tr>\n",
              "    <tr>\n",
              "      <th>29</th>\n",
              "      <td>LOJA3</td>\n",
              "      <td>PB</td>\n",
              "    </tr>\n",
              "    <tr>\n",
              "      <th>30</th>\n",
              "      <td>LOJA3</td>\n",
              "      <td>PB</td>\n",
              "    </tr>\n",
              "    <tr>\n",
              "      <th>31</th>\n",
              "      <td>LOJA3</td>\n",
              "      <td>PB</td>\n",
              "    </tr>\n",
              "    <tr>\n",
              "      <th>32</th>\n",
              "      <td>LOJA3</td>\n",
              "      <td>PB</td>\n",
              "    </tr>\n",
              "    <tr>\n",
              "      <th>33</th>\n",
              "      <td>LOJA3</td>\n",
              "      <td>PB</td>\n",
              "    </tr>\n",
              "    <tr>\n",
              "      <th>34</th>\n",
              "      <td>LOJA3</td>\n",
              "      <td>PB</td>\n",
              "    </tr>\n",
              "  </tbody>\n",
              "</table>\n",
              "</div>"
            ],
            "text/plain": [
              "   dim_loj_nome dim_loj_estado\n",
              "0         LOJA1             BA\n",
              "1         LOJA1             BA\n",
              "2         LOJA1             BA\n",
              "3         LOJA1             BA\n",
              "4         LOJA1             BA\n",
              "5         LOJA1             BA\n",
              "6         LOJA2             BA\n",
              "7         LOJA2             BA\n",
              "8         LOJA2             BA\n",
              "9         LOJA2             BA\n",
              "10        LOJA2             BA\n",
              "11        LOJA3             PB\n",
              "12        LOJA3             PB\n",
              "13        LOJA3             PB\n",
              "14        LOJA3             PB\n",
              "15        LOJA3             PB\n",
              "16        LOJA1             BA\n",
              "17        LOJA1             BA\n",
              "18        LOJA1             BA\n",
              "19        LOJA1             BA\n",
              "20        LOJA1             BA\n",
              "21        LOJA1             BA\n",
              "22        LOJA2             BA\n",
              "23        LOJA2             BA\n",
              "24        LOJA2             BA\n",
              "25        LOJA2             BA\n",
              "26        LOJA2             BA\n",
              "27        LOJA3             PB\n",
              "28        LOJA3             PB\n",
              "29        LOJA3             PB\n",
              "30        LOJA3             PB\n",
              "31        LOJA3             PB\n",
              "32        LOJA3             PB\n",
              "33        LOJA3             PB\n",
              "34        LOJA3             PB"
            ]
          },
          "execution_count": 4,
          "metadata": {},
          "output_type": "execute_result"
        }
      ],
      "source": [
        "dim_loja = df[['dim_loj_nome', 'dim_loj_estado']]\n",
        "dim_loja"
      ]
    },
    {
      "cell_type": "markdown",
      "id": "279b5398",
      "metadata": {
        "id": "279b5398"
      },
      "source": [
        "- Listar os estados sem repetição da dimensão DIM_LOJA"
      ]
    },
    {
      "cell_type": "code",
      "execution_count": 5,
      "id": "6fce1965",
      "metadata": {
        "colab": {
          "base_uri": "https://localhost:8080/"
        },
        "id": "6fce1965",
        "outputId": "e326e453-f8b1-4f37-dc73-8ba34608b0ee"
      },
      "outputs": [
        {
          "data": {
            "text/plain": [
              "0     BA\n",
              "11    PB\n",
              "Name: dim_loj_estado, dtype: object"
            ]
          },
          "execution_count": 5,
          "metadata": {},
          "output_type": "execute_result"
        }
      ],
      "source": [
        "dim_loja['dim_loj_estado'].drop_duplicates()"
      ]
    },
    {
      "cell_type": "markdown",
      "id": "7e5314f3",
      "metadata": {
        "id": "7e5314f3"
      },
      "source": [
        "- Listar o campus da dimensão DIM_LOJA filtrados pelo estado BA"
      ]
    },
    {
      "cell_type": "code",
      "execution_count": 6,
      "id": "e191aa11",
      "metadata": {
        "colab": {
          "base_uri": "https://localhost:8080/",
          "height": 739
        },
        "id": "e191aa11",
        "outputId": "fa723b5a-c911-446d-c01b-599386c07210"
      },
      "outputs": [
        {
          "data": {
            "text/html": [
              "<div>\n",
              "<style scoped>\n",
              "    .dataframe tbody tr th:only-of-type {\n",
              "        vertical-align: middle;\n",
              "    }\n",
              "\n",
              "    .dataframe tbody tr th {\n",
              "        vertical-align: top;\n",
              "    }\n",
              "\n",
              "    .dataframe thead th {\n",
              "        text-align: right;\n",
              "    }\n",
              "</style>\n",
              "<table border=\"1\" class=\"dataframe\">\n",
              "  <thead>\n",
              "    <tr style=\"text-align: right;\">\n",
              "      <th></th>\n",
              "      <th>dim_loj_nome</th>\n",
              "      <th>dim_loj_estado</th>\n",
              "    </tr>\n",
              "  </thead>\n",
              "  <tbody>\n",
              "    <tr>\n",
              "      <th>0</th>\n",
              "      <td>LOJA1</td>\n",
              "      <td>BA</td>\n",
              "    </tr>\n",
              "    <tr>\n",
              "      <th>1</th>\n",
              "      <td>LOJA1</td>\n",
              "      <td>BA</td>\n",
              "    </tr>\n",
              "    <tr>\n",
              "      <th>2</th>\n",
              "      <td>LOJA1</td>\n",
              "      <td>BA</td>\n",
              "    </tr>\n",
              "    <tr>\n",
              "      <th>3</th>\n",
              "      <td>LOJA1</td>\n",
              "      <td>BA</td>\n",
              "    </tr>\n",
              "    <tr>\n",
              "      <th>4</th>\n",
              "      <td>LOJA1</td>\n",
              "      <td>BA</td>\n",
              "    </tr>\n",
              "    <tr>\n",
              "      <th>5</th>\n",
              "      <td>LOJA1</td>\n",
              "      <td>BA</td>\n",
              "    </tr>\n",
              "    <tr>\n",
              "      <th>6</th>\n",
              "      <td>LOJA2</td>\n",
              "      <td>BA</td>\n",
              "    </tr>\n",
              "    <tr>\n",
              "      <th>7</th>\n",
              "      <td>LOJA2</td>\n",
              "      <td>BA</td>\n",
              "    </tr>\n",
              "    <tr>\n",
              "      <th>8</th>\n",
              "      <td>LOJA2</td>\n",
              "      <td>BA</td>\n",
              "    </tr>\n",
              "    <tr>\n",
              "      <th>9</th>\n",
              "      <td>LOJA2</td>\n",
              "      <td>BA</td>\n",
              "    </tr>\n",
              "    <tr>\n",
              "      <th>10</th>\n",
              "      <td>LOJA2</td>\n",
              "      <td>BA</td>\n",
              "    </tr>\n",
              "    <tr>\n",
              "      <th>16</th>\n",
              "      <td>LOJA1</td>\n",
              "      <td>BA</td>\n",
              "    </tr>\n",
              "    <tr>\n",
              "      <th>17</th>\n",
              "      <td>LOJA1</td>\n",
              "      <td>BA</td>\n",
              "    </tr>\n",
              "    <tr>\n",
              "      <th>18</th>\n",
              "      <td>LOJA1</td>\n",
              "      <td>BA</td>\n",
              "    </tr>\n",
              "    <tr>\n",
              "      <th>19</th>\n",
              "      <td>LOJA1</td>\n",
              "      <td>BA</td>\n",
              "    </tr>\n",
              "    <tr>\n",
              "      <th>20</th>\n",
              "      <td>LOJA1</td>\n",
              "      <td>BA</td>\n",
              "    </tr>\n",
              "    <tr>\n",
              "      <th>21</th>\n",
              "      <td>LOJA1</td>\n",
              "      <td>BA</td>\n",
              "    </tr>\n",
              "    <tr>\n",
              "      <th>22</th>\n",
              "      <td>LOJA2</td>\n",
              "      <td>BA</td>\n",
              "    </tr>\n",
              "    <tr>\n",
              "      <th>23</th>\n",
              "      <td>LOJA2</td>\n",
              "      <td>BA</td>\n",
              "    </tr>\n",
              "    <tr>\n",
              "      <th>24</th>\n",
              "      <td>LOJA2</td>\n",
              "      <td>BA</td>\n",
              "    </tr>\n",
              "    <tr>\n",
              "      <th>25</th>\n",
              "      <td>LOJA2</td>\n",
              "      <td>BA</td>\n",
              "    </tr>\n",
              "    <tr>\n",
              "      <th>26</th>\n",
              "      <td>LOJA2</td>\n",
              "      <td>BA</td>\n",
              "    </tr>\n",
              "  </tbody>\n",
              "</table>\n",
              "</div>"
            ],
            "text/plain": [
              "   dim_loj_nome dim_loj_estado\n",
              "0         LOJA1             BA\n",
              "1         LOJA1             BA\n",
              "2         LOJA1             BA\n",
              "3         LOJA1             BA\n",
              "4         LOJA1             BA\n",
              "5         LOJA1             BA\n",
              "6         LOJA2             BA\n",
              "7         LOJA2             BA\n",
              "8         LOJA2             BA\n",
              "9         LOJA2             BA\n",
              "10        LOJA2             BA\n",
              "16        LOJA1             BA\n",
              "17        LOJA1             BA\n",
              "18        LOJA1             BA\n",
              "19        LOJA1             BA\n",
              "20        LOJA1             BA\n",
              "21        LOJA1             BA\n",
              "22        LOJA2             BA\n",
              "23        LOJA2             BA\n",
              "24        LOJA2             BA\n",
              "25        LOJA2             BA\n",
              "26        LOJA2             BA"
            ]
          },
          "execution_count": 6,
          "metadata": {},
          "output_type": "execute_result"
        }
      ],
      "source": [
        "dim_loja.query(\"dim_loj_estado == 'BA'\")"
      ]
    },
    {
      "cell_type": "markdown",
      "id": "d4fbba5c",
      "metadata": {
        "id": "d4fbba5c"
      },
      "source": [
        "- Calcular o faturamento total da tabela de fatos FAT_VENDAS"
      ]
    },
    {
      "cell_type": "code",
      "execution_count": 7,
      "id": "f38289b7",
      "metadata": {
        "colab": {
          "base_uri": "https://localhost:8080/"
        },
        "id": "f38289b7",
        "outputId": "c43c53e0-1b21-4cb4-8937-402fe9846ebf"
      },
      "outputs": [
        {
          "data": {
            "text/plain": [
              "1065.0"
            ]
          },
          "execution_count": 7,
          "metadata": {},
          "output_type": "execute_result"
        }
      ],
      "source": [
        "df['fat_ven_faturamento'].sum()"
      ]
    },
    {
      "cell_type": "markdown",
      "id": "71e4c7c2",
      "metadata": {
        "id": "71e4c7c2"
      },
      "source": [
        "### Etapa 04"
      ]
    },
    {
      "cell_type": "markdown",
      "id": "42fa460d",
      "metadata": {
        "id": "42fa460d"
      },
      "source": [
        "- Criar uma nova coluna de tempo (mês/ano)"
      ]
    },
    {
      "cell_type": "code",
      "execution_count": 8,
      "id": "2f2e5318",
      "metadata": {
        "id": "2f2e5318"
      },
      "outputs": [],
      "source": [
        "df['dim_tem_ano'] = df['dim_tem_ano'].astype(str)\n",
        "df['dim_tem_mes'] = df['dim_tem_mes'].astype(str)\n",
        "df['dim_tem_dia'] = df['dim_tem_dia'].astype(str)\n",
        "df['date'] = pd.to_datetime(df['dim_tem_ano']+'-'+df['dim_tem_mes']+'-'+df['dim_tem_dia'])"
      ]
    },
    {
      "cell_type": "code",
      "execution_count": 9,
      "id": "e33e2c81",
      "metadata": {
        "id": "e33e2c81"
      },
      "outputs": [],
      "source": [
        "df['dim_tem_mes_ano'] = df['date'].dt.strftime('%m/%Y')"
      ]
    },
    {
      "cell_type": "code",
      "execution_count": 10,
      "id": "7edd65cf",
      "metadata": {
        "colab": {
          "base_uri": "https://localhost:8080/",
          "height": 374
        },
        "id": "7edd65cf",
        "outputId": "b1d03f76-f630-46ee-be31-548a3e1454d4"
      },
      "outputs": [
        {
          "data": {
            "text/html": [
              "<div>\n",
              "<style scoped>\n",
              "    .dataframe tbody tr th:only-of-type {\n",
              "        vertical-align: middle;\n",
              "    }\n",
              "\n",
              "    .dataframe tbody tr th {\n",
              "        vertical-align: top;\n",
              "    }\n",
              "\n",
              "    .dataframe thead th {\n",
              "        text-align: right;\n",
              "    }\n",
              "</style>\n",
              "<table border=\"1\" class=\"dataframe\">\n",
              "  <thead>\n",
              "    <tr style=\"text-align: right;\">\n",
              "      <th></th>\n",
              "      <th>Unnamed: 0</th>\n",
              "      <th>dim_loj_nome</th>\n",
              "      <th>dim_loj_estado</th>\n",
              "      <th>dim_pro_nome</th>\n",
              "      <th>dim_pro_categoria</th>\n",
              "      <th>dim_pro_familia</th>\n",
              "      <th>dim_tem_dia</th>\n",
              "      <th>dim_tem_mes</th>\n",
              "      <th>dim_tem_ano</th>\n",
              "      <th>fat_ven_quantidade</th>\n",
              "      <th>fat_ven_faturamento</th>\n",
              "      <th>date</th>\n",
              "      <th>dim_tem_mes_ano</th>\n",
              "    </tr>\n",
              "  </thead>\n",
              "  <tbody>\n",
              "    <tr>\n",
              "      <th>0</th>\n",
              "      <td>0</td>\n",
              "      <td>LOJA1</td>\n",
              "      <td>BA</td>\n",
              "      <td>P1</td>\n",
              "      <td>CAT1</td>\n",
              "      <td>F1</td>\n",
              "      <td>15</td>\n",
              "      <td>1</td>\n",
              "      <td>1999</td>\n",
              "      <td>10.0</td>\n",
              "      <td>20.0</td>\n",
              "      <td>1999-01-15</td>\n",
              "      <td>01/1999</td>\n",
              "    </tr>\n",
              "    <tr>\n",
              "      <th>1</th>\n",
              "      <td>1</td>\n",
              "      <td>LOJA1</td>\n",
              "      <td>BA</td>\n",
              "      <td>P2</td>\n",
              "      <td>CAT1</td>\n",
              "      <td>F1</td>\n",
              "      <td>15</td>\n",
              "      <td>1</td>\n",
              "      <td>1999</td>\n",
              "      <td>30.0</td>\n",
              "      <td>40.0</td>\n",
              "      <td>1999-01-15</td>\n",
              "      <td>01/1999</td>\n",
              "    </tr>\n",
              "    <tr>\n",
              "      <th>2</th>\n",
              "      <td>2</td>\n",
              "      <td>LOJA1</td>\n",
              "      <td>BA</td>\n",
              "      <td>P3</td>\n",
              "      <td>CAT1</td>\n",
              "      <td>F1</td>\n",
              "      <td>15</td>\n",
              "      <td>1</td>\n",
              "      <td>1999</td>\n",
              "      <td>10.0</td>\n",
              "      <td>20.0</td>\n",
              "      <td>1999-01-15</td>\n",
              "      <td>01/1999</td>\n",
              "    </tr>\n",
              "    <tr>\n",
              "      <th>3</th>\n",
              "      <td>3</td>\n",
              "      <td>LOJA1</td>\n",
              "      <td>BA</td>\n",
              "      <td>P1</td>\n",
              "      <td>CAT1</td>\n",
              "      <td>F1</td>\n",
              "      <td>15</td>\n",
              "      <td>2</td>\n",
              "      <td>1999</td>\n",
              "      <td>10.0</td>\n",
              "      <td>20.0</td>\n",
              "      <td>1999-02-15</td>\n",
              "      <td>02/1999</td>\n",
              "    </tr>\n",
              "    <tr>\n",
              "      <th>4</th>\n",
              "      <td>4</td>\n",
              "      <td>LOJA1</td>\n",
              "      <td>BA</td>\n",
              "      <td>P2</td>\n",
              "      <td>CAT1</td>\n",
              "      <td>F1</td>\n",
              "      <td>15</td>\n",
              "      <td>2</td>\n",
              "      <td>1999</td>\n",
              "      <td>30.0</td>\n",
              "      <td>40.0</td>\n",
              "      <td>1999-02-15</td>\n",
              "      <td>02/1999</td>\n",
              "    </tr>\n",
              "  </tbody>\n",
              "</table>\n",
              "</div>"
            ],
            "text/plain": [
              "   Unnamed: 0 dim_loj_nome dim_loj_estado dim_pro_nome dim_pro_categoria  \\\n",
              "0           0        LOJA1             BA           P1              CAT1   \n",
              "1           1        LOJA1             BA           P2              CAT1   \n",
              "2           2        LOJA1             BA           P3              CAT1   \n",
              "3           3        LOJA1             BA           P1              CAT1   \n",
              "4           4        LOJA1             BA           P2              CAT1   \n",
              "\n",
              "  dim_pro_familia dim_tem_dia dim_tem_mes dim_tem_ano  fat_ven_quantidade  \\\n",
              "0            F1            15           1        1999                10.0   \n",
              "1            F1            15           1        1999                30.0   \n",
              "2            F1            15           1        1999                10.0   \n",
              "3            F1            15           2        1999                10.0   \n",
              "4            F1            15           2        1999                30.0   \n",
              "\n",
              "   fat_ven_faturamento       date dim_tem_mes_ano  \n",
              "0                 20.0 1999-01-15         01/1999  \n",
              "1                 40.0 1999-01-15         01/1999  \n",
              "2                 20.0 1999-01-15         01/1999  \n",
              "3                 20.0 1999-02-15         02/1999  \n",
              "4                 40.0 1999-02-15         02/1999  "
            ]
          },
          "execution_count": 10,
          "metadata": {},
          "output_type": "execute_result"
        }
      ],
      "source": [
        "df.head()"
      ]
    },
    {
      "cell_type": "markdown",
      "id": "3016075e",
      "metadata": {
        "id": "3016075e"
      },
      "source": [
        "### Etapa 05"
      ]
    },
    {
      "cell_type": "markdown",
      "id": "1b9f1943",
      "metadata": {
        "id": "1b9f1943"
      },
      "source": [
        "- Criar a consulta DAX para retornar o total do faturamento das vendas\n",
        "referentes a Categoria=“CAT1” (DIM_PRODUTO) e do Estado=“BA” (DIM_LOJA)"
      ]
    },
    {
      "cell_type": "code",
      "execution_count": 11,
      "id": "1cd07fe9",
      "metadata": {
        "id": "1cd07fe9"
      },
      "outputs": [],
      "source": [
        "keys = ['dim_loj_nome', \"dim_pro_categoria\", \n",
        "        \"dim_loj_estado\",  'fat_ven_faturamento',\n",
        "       'dim_tem_mes_ano', 'date']"
      ]
    },
    {
      "cell_type": "code",
      "execution_count": 12,
      "id": "38e3ac91",
      "metadata": {
        "colab": {
          "base_uri": "https://localhost:8080/",
          "height": 300
        },
        "id": "38e3ac91",
        "outputId": "b1526059-7454-4480-aa4b-5b906ece2339"
      },
      "outputs": [
        {
          "data": {
            "text/html": [
              "<div>\n",
              "<style scoped>\n",
              "    .dataframe tbody tr th:only-of-type {\n",
              "        vertical-align: middle;\n",
              "    }\n",
              "\n",
              "    .dataframe tbody tr th {\n",
              "        vertical-align: top;\n",
              "    }\n",
              "\n",
              "    .dataframe thead th {\n",
              "        text-align: right;\n",
              "    }\n",
              "</style>\n",
              "<table border=\"1\" class=\"dataframe\">\n",
              "  <thead>\n",
              "    <tr style=\"text-align: right;\">\n",
              "      <th></th>\n",
              "      <th>dim_loj_nome</th>\n",
              "      <th>dim_tem_mes_ano</th>\n",
              "      <th>date</th>\n",
              "      <th>fat_ven_faturamento</th>\n",
              "    </tr>\n",
              "  </thead>\n",
              "  <tbody>\n",
              "    <tr>\n",
              "      <th>0</th>\n",
              "      <td>LOJA1</td>\n",
              "      <td>01/1999</td>\n",
              "      <td>1999-01-15</td>\n",
              "      <td>80.0</td>\n",
              "    </tr>\n",
              "    <tr>\n",
              "      <th>4</th>\n",
              "      <td>LOJA2</td>\n",
              "      <td>01/1999</td>\n",
              "      <td>1999-01-15</td>\n",
              "      <td>60.0</td>\n",
              "    </tr>\n",
              "    <tr>\n",
              "      <th>2</th>\n",
              "      <td>LOJA1</td>\n",
              "      <td>02/1999</td>\n",
              "      <td>1999-02-15</td>\n",
              "      <td>60.0</td>\n",
              "    </tr>\n",
              "    <tr>\n",
              "      <th>6</th>\n",
              "      <td>LOJA2</td>\n",
              "      <td>02/1999</td>\n",
              "      <td>1999-02-15</td>\n",
              "      <td>60.0</td>\n",
              "    </tr>\n",
              "    <tr>\n",
              "      <th>1</th>\n",
              "      <td>LOJA1</td>\n",
              "      <td>01/2000</td>\n",
              "      <td>2000-01-15</td>\n",
              "      <td>98.0</td>\n",
              "    </tr>\n",
              "    <tr>\n",
              "      <th>5</th>\n",
              "      <td>LOJA2</td>\n",
              "      <td>01/2000</td>\n",
              "      <td>2000-01-15</td>\n",
              "      <td>71.0</td>\n",
              "    </tr>\n",
              "    <tr>\n",
              "      <th>3</th>\n",
              "      <td>LOJA1</td>\n",
              "      <td>02/2000</td>\n",
              "      <td>2000-02-15</td>\n",
              "      <td>100.0</td>\n",
              "    </tr>\n",
              "    <tr>\n",
              "      <th>7</th>\n",
              "      <td>LOJA2</td>\n",
              "      <td>02/2000</td>\n",
              "      <td>2000-02-15</td>\n",
              "      <td>94.0</td>\n",
              "    </tr>\n",
              "  </tbody>\n",
              "</table>\n",
              "</div>"
            ],
            "text/plain": [
              "  dim_loj_nome dim_tem_mes_ano       date  fat_ven_faturamento\n",
              "0        LOJA1         01/1999 1999-01-15                 80.0\n",
              "4        LOJA2         01/1999 1999-01-15                 60.0\n",
              "2        LOJA1         02/1999 1999-02-15                 60.0\n",
              "6        LOJA2         02/1999 1999-02-15                 60.0\n",
              "1        LOJA1         01/2000 2000-01-15                 98.0\n",
              "5        LOJA2         01/2000 2000-01-15                 71.0\n",
              "3        LOJA1         02/2000 2000-02-15                100.0\n",
              "7        LOJA2         02/2000 2000-02-15                 94.0"
            ]
          },
          "execution_count": 12,
          "metadata": {},
          "output_type": "execute_result"
        }
      ],
      "source": [
        "df_cat1_ba = (\n",
        "    df.loc[:, keys]\n",
        "    .query(\"dim_pro_categoria == 'CAT1' & dim_loj_estado == 'BA'\")\n",
        "    .groupby(['dim_loj_nome', 'dim_tem_mes_ano', 'date'], as_index=False)\n",
        "    .sum()\n",
        "    .sort_values(by='date')\n",
        ")\n",
        "df_cat1_ba"
      ]
    },
    {
      "cell_type": "markdown",
      "id": "38348e0c",
      "metadata": {
        "id": "38348e0c"
      },
      "source": [
        "### Etapa 06\n"
      ]
    },
    {
      "cell_type": "markdown",
      "id": "105ab7ac",
      "metadata": {
        "id": "105ab7ac"
      },
      "source": [
        "- Criar a consulta DAX para retornar o total do faturamento das vendas\n",
        "referente ao ano de 1999 do estado “BA”."
      ]
    },
    {
      "cell_type": "code",
      "execution_count": 13,
      "id": "ec1f26fd",
      "metadata": {
        "id": "ec1f26fd"
      },
      "outputs": [],
      "source": [
        "keys = ['dim_loj_nome', \"dim_tem_ano\", \n",
        "         'dim_pro_categoria', \"dim_loj_estado\", \n",
        "         'fat_ven_faturamento'] "
      ]
    },
    {
      "cell_type": "code",
      "execution_count": 14,
      "id": "c98dc8bd",
      "metadata": {
        "colab": {
          "base_uri": "https://localhost:8080/",
          "height": 174
        },
        "id": "c98dc8bd",
        "outputId": "81360030-8c74-4aed-d605-5feed81b947b"
      },
      "outputs": [
        {
          "data": {
            "text/html": [
              "<div>\n",
              "<style scoped>\n",
              "    .dataframe tbody tr th:only-of-type {\n",
              "        vertical-align: middle;\n",
              "    }\n",
              "\n",
              "    .dataframe tbody tr th {\n",
              "        vertical-align: top;\n",
              "    }\n",
              "\n",
              "    .dataframe thead th {\n",
              "        text-align: right;\n",
              "    }\n",
              "</style>\n",
              "<table border=\"1\" class=\"dataframe\">\n",
              "  <thead>\n",
              "    <tr style=\"text-align: right;\">\n",
              "      <th></th>\n",
              "      <th>dim_loj_nome</th>\n",
              "      <th>dim_pro_categoria</th>\n",
              "      <th>fat_ven_faturamento</th>\n",
              "    </tr>\n",
              "  </thead>\n",
              "  <tbody>\n",
              "    <tr>\n",
              "      <th>1</th>\n",
              "      <td>LOJA1</td>\n",
              "      <td>CAT2</td>\n",
              "      <td>20.0</td>\n",
              "    </tr>\n",
              "    <tr>\n",
              "      <th>3</th>\n",
              "      <td>LOJA2</td>\n",
              "      <td>CAT2</td>\n",
              "      <td>20.0</td>\n",
              "    </tr>\n",
              "    <tr>\n",
              "      <th>2</th>\n",
              "      <td>LOJA2</td>\n",
              "      <td>CAT1</td>\n",
              "      <td>120.0</td>\n",
              "    </tr>\n",
              "    <tr>\n",
              "      <th>0</th>\n",
              "      <td>LOJA1</td>\n",
              "      <td>CAT1</td>\n",
              "      <td>140.0</td>\n",
              "    </tr>\n",
              "  </tbody>\n",
              "</table>\n",
              "</div>"
            ],
            "text/plain": [
              "  dim_loj_nome dim_pro_categoria  fat_ven_faturamento\n",
              "1        LOJA1              CAT2                 20.0\n",
              "3        LOJA2              CAT2                 20.0\n",
              "2        LOJA2              CAT1                120.0\n",
              "0        LOJA1              CAT1                140.0"
            ]
          },
          "execution_count": 14,
          "metadata": {},
          "output_type": "execute_result"
        }
      ],
      "source": [
        "df_1999_ba = (\n",
        "    df.loc[:, keys]\n",
        "    .query(\"dim_tem_ano == '1999' & dim_loj_estado == 'BA'\")\n",
        "    .groupby(['dim_loj_nome', 'dim_pro_categoria'], as_index=False)\n",
        "    .sum()\n",
        "    .sort_values(by='fat_ven_faturamento')\n",
        ")\n",
        "df_1999_ba"
      ]
    },
    {
      "cell_type": "code",
      "execution_count": 15,
      "id": "9319ac2d",
      "metadata": {
        "colab": {
          "base_uri": "https://localhost:8080/",
          "height": 174
        },
        "id": "9319ac2d",
        "outputId": "a5ef7f58-e663-4bad-fff3-ee440cd65238"
      },
      "outputs": [
        {
          "data": {
            "text/html": [
              "<div>\n",
              "<style scoped>\n",
              "    .dataframe tbody tr th:only-of-type {\n",
              "        vertical-align: middle;\n",
              "    }\n",
              "\n",
              "    .dataframe tbody tr th {\n",
              "        vertical-align: top;\n",
              "    }\n",
              "\n",
              "    .dataframe thead th {\n",
              "        text-align: right;\n",
              "    }\n",
              "</style>\n",
              "<table border=\"1\" class=\"dataframe\">\n",
              "  <thead>\n",
              "    <tr style=\"text-align: right;\">\n",
              "      <th></th>\n",
              "      <th>dim_loj_nome</th>\n",
              "      <th>dim_pro_categoria</th>\n",
              "      <th>fat_ven_faturamento</th>\n",
              "    </tr>\n",
              "  </thead>\n",
              "  <tbody>\n",
              "    <tr>\n",
              "      <th>1</th>\n",
              "      <td>LOJA1</td>\n",
              "      <td>CAT2</td>\n",
              "      <td>20.0</td>\n",
              "    </tr>\n",
              "    <tr>\n",
              "      <th>3</th>\n",
              "      <td>LOJA2</td>\n",
              "      <td>CAT2</td>\n",
              "      <td>20.0</td>\n",
              "    </tr>\n",
              "    <tr>\n",
              "      <th>2</th>\n",
              "      <td>LOJA2</td>\n",
              "      <td>CAT1</td>\n",
              "      <td>120.0</td>\n",
              "    </tr>\n",
              "    <tr>\n",
              "      <th>0</th>\n",
              "      <td>LOJA1</td>\n",
              "      <td>CAT1</td>\n",
              "      <td>140.0</td>\n",
              "    </tr>\n",
              "  </tbody>\n",
              "</table>\n",
              "</div>"
            ],
            "text/plain": [
              "  dim_loj_nome dim_pro_categoria  fat_ven_faturamento\n",
              "1        LOJA1              CAT2                 20.0\n",
              "3        LOJA2              CAT2                 20.0\n",
              "2        LOJA2              CAT1                120.0\n",
              "0        LOJA1              CAT1                140.0"
            ]
          },
          "execution_count": 15,
          "metadata": {},
          "output_type": "execute_result"
        }
      ],
      "source": [
        "df_1999_ba"
      ]
    },
    {
      "cell_type": "markdown",
      "id": "50b3e425",
      "metadata": {
        "id": "50b3e425"
      },
      "source": [
        "### Etapa 07"
      ]
    },
    {
      "cell_type": "markdown",
      "id": "2e7d05ad",
      "metadata": {
        "id": "2e7d05ad"
      },
      "source": [
        "- Criar as tabelas referente ao Passo V e VI\n",
        "- Apresentar as tabelas com os componentes"
      ]
    },
    {
      "cell_type": "code",
      "execution_count": 16,
      "id": "a4f68cbb",
      "metadata": {
        "id": "a4f68cbb"
      },
      "outputs": [],
      "source": [
        "def catesian_format(dataframe, key):\n",
        "    source_obj = {}\n",
        "    for header in dataframe[key]:\n",
        "        query = dataframe.query(f'{key} == \"{header}\"')\n",
        "        fat_ven = query['fat_ven_faturamento'].to_list()\n",
        "        source_obj[header] = fat_ven\n",
        "    \n",
        "    return pd.DataFrame.from_dict(source_obj)"
      ]
    },
    {
      "cell_type": "markdown",
      "id": "b4364f6e",
      "metadata": {
        "id": "b4364f6e"
      },
      "source": [
        "#### Tabela Cat1 Ba (Etapa 05) "
      ]
    },
    {
      "cell_type": "code",
      "execution_count": 17,
      "id": "74f7f749",
      "metadata": {
        "id": "74f7f749"
      },
      "outputs": [],
      "source": [
        "table_cat1_ba = catesian_format(df_cat1_ba, 'dim_tem_mes_ano')"
      ]
    },
    {
      "cell_type": "code",
      "execution_count": 18,
      "id": "659d64f4",
      "metadata": {
        "colab": {
          "base_uri": "https://localhost:8080/"
        },
        "id": "659d64f4",
        "outputId": "0cbfbaff-bef3-4f07-b19e-b2ad33511f16"
      },
      "outputs": [
        {
          "data": {
            "text/html": [
              "<div>\n",
              "<style scoped>\n",
              "    .dataframe tbody tr th:only-of-type {\n",
              "        vertical-align: middle;\n",
              "    }\n",
              "\n",
              "    .dataframe tbody tr th {\n",
              "        vertical-align: top;\n",
              "    }\n",
              "\n",
              "    .dataframe thead th {\n",
              "        text-align: right;\n",
              "    }\n",
              "</style>\n",
              "<table border=\"1\" class=\"dataframe\">\n",
              "  <thead>\n",
              "    <tr style=\"text-align: right;\">\n",
              "      <th></th>\n",
              "      <th>01/1999</th>\n",
              "      <th>02/1999</th>\n",
              "      <th>01/2000</th>\n",
              "      <th>02/2000</th>\n",
              "      <th>TOTAL</th>\n",
              "    </tr>\n",
              "  </thead>\n",
              "  <tbody>\n",
              "    <tr>\n",
              "      <th>0</th>\n",
              "      <td>80.0</td>\n",
              "      <td>60.0</td>\n",
              "      <td>98.0</td>\n",
              "      <td>100.0</td>\n",
              "      <td>338.0</td>\n",
              "    </tr>\n",
              "    <tr>\n",
              "      <th>1</th>\n",
              "      <td>60.0</td>\n",
              "      <td>60.0</td>\n",
              "      <td>71.0</td>\n",
              "      <td>94.0</td>\n",
              "      <td>285.0</td>\n",
              "    </tr>\n",
              "    <tr>\n",
              "      <th>2</th>\n",
              "      <td>140.0</td>\n",
              "      <td>120.0</td>\n",
              "      <td>169.0</td>\n",
              "      <td>194.0</td>\n",
              "      <td>623.0</td>\n",
              "    </tr>\n",
              "  </tbody>\n",
              "</table>\n",
              "</div>"
            ],
            "text/plain": [
              "   01/1999  02/1999  01/2000  02/2000  TOTAL\n",
              "0     80.0     60.0     98.0    100.0  338.0\n",
              "1     60.0     60.0     71.0     94.0  285.0\n",
              "2    140.0    120.0    169.0    194.0  623.0"
            ]
          },
          "execution_count": 18,
          "metadata": {},
          "output_type": "execute_result"
        }
      ],
      "source": [
        "table_cat1_ba['TOTAL'] = table_cat1_ba.sum(axis=1)\n",
        "table_cat1_ba.loc[len(table_cat1_ba.index)] = table_cat1_ba.sum()\n",
        "table_cat1_ba.head()"
      ]
    },
    {
      "cell_type": "code",
      "execution_count": 19,
      "id": "25b60f5e",
      "metadata": {
        "colab": {
          "base_uri": "https://localhost:8080/"
        },
        "id": "25b60f5e",
        "outputId": "460f655d-1d1a-418d-adbc-d25d28352092"
      },
      "outputs": [
        {
          "data": {
            "text/html": [
              "<div>\n",
              "<style scoped>\n",
              "    .dataframe tbody tr th:only-of-type {\n",
              "        vertical-align: middle;\n",
              "    }\n",
              "\n",
              "    .dataframe tbody tr th {\n",
              "        vertical-align: top;\n",
              "    }\n",
              "\n",
              "    .dataframe thead th {\n",
              "        text-align: right;\n",
              "    }\n",
              "</style>\n",
              "<table border=\"1\" class=\"dataframe\">\n",
              "  <thead>\n",
              "    <tr style=\"text-align: right;\">\n",
              "      <th></th>\n",
              "      <th>01/1999</th>\n",
              "      <th>02/1999</th>\n",
              "      <th>01/2000</th>\n",
              "      <th>02/2000</th>\n",
              "      <th>TOTAL</th>\n",
              "      <th>Nome da Loja</th>\n",
              "    </tr>\n",
              "  </thead>\n",
              "  <tbody>\n",
              "    <tr>\n",
              "      <th>0</th>\n",
              "      <td>80.0</td>\n",
              "      <td>60.0</td>\n",
              "      <td>98.0</td>\n",
              "      <td>100.0</td>\n",
              "      <td>338.0</td>\n",
              "      <td>LOJA1</td>\n",
              "    </tr>\n",
              "    <tr>\n",
              "      <th>1</th>\n",
              "      <td>60.0</td>\n",
              "      <td>60.0</td>\n",
              "      <td>71.0</td>\n",
              "      <td>94.0</td>\n",
              "      <td>285.0</td>\n",
              "      <td>LOJA2</td>\n",
              "    </tr>\n",
              "    <tr>\n",
              "      <th>2</th>\n",
              "      <td>140.0</td>\n",
              "      <td>120.0</td>\n",
              "      <td>169.0</td>\n",
              "      <td>194.0</td>\n",
              "      <td>623.0</td>\n",
              "      <td>TOTAL</td>\n",
              "    </tr>\n",
              "  </tbody>\n",
              "</table>\n",
              "</div>"
            ],
            "text/plain": [
              "   01/1999  02/1999  01/2000  02/2000  TOTAL Nome da Loja\n",
              "0     80.0     60.0     98.0    100.0  338.0        LOJA1\n",
              "1     60.0     60.0     71.0     94.0  285.0        LOJA2\n",
              "2    140.0    120.0    169.0    194.0  623.0        TOTAL"
            ]
          },
          "execution_count": 19,
          "metadata": {},
          "output_type": "execute_result"
        }
      ],
      "source": [
        "table_cat1_ba['Nome da Loja'] = [\"LOJA1\", \"LOJA2\", \"TOTAL\"]\n",
        "table_cat1_ba.head()"
      ]
    },
    {
      "cell_type": "markdown",
      "id": "106a4ee1",
      "metadata": {
        "id": "106a4ee1"
      },
      "source": [
        "#### Tabela 1999 BA (Etapa 06)"
      ]
    },
    {
      "cell_type": "code",
      "execution_count": 20,
      "id": "88118e16",
      "metadata": {
        "colab": {
          "base_uri": "https://localhost:8080/",
          "height": 112
        },
        "id": "88118e16",
        "outputId": "bc87c375-8d59-482e-ad2c-a5fcef0d05d5"
      },
      "outputs": [
        {
          "data": {
            "text/html": [
              "<div>\n",
              "<style scoped>\n",
              "    .dataframe tbody tr th:only-of-type {\n",
              "        vertical-align: middle;\n",
              "    }\n",
              "\n",
              "    .dataframe tbody tr th {\n",
              "        vertical-align: top;\n",
              "    }\n",
              "\n",
              "    .dataframe thead th {\n",
              "        text-align: right;\n",
              "    }\n",
              "</style>\n",
              "<table border=\"1\" class=\"dataframe\">\n",
              "  <thead>\n",
              "    <tr style=\"text-align: right;\">\n",
              "      <th></th>\n",
              "      <th>CAT2</th>\n",
              "      <th>CAT1</th>\n",
              "    </tr>\n",
              "  </thead>\n",
              "  <tbody>\n",
              "    <tr>\n",
              "      <th>0</th>\n",
              "      <td>20.0</td>\n",
              "      <td>120.0</td>\n",
              "    </tr>\n",
              "    <tr>\n",
              "      <th>1</th>\n",
              "      <td>20.0</td>\n",
              "      <td>140.0</td>\n",
              "    </tr>\n",
              "  </tbody>\n",
              "</table>\n",
              "</div>"
            ],
            "text/plain": [
              "   CAT2   CAT1\n",
              "0  20.0  120.0\n",
              "1  20.0  140.0"
            ]
          },
          "execution_count": 20,
          "metadata": {},
          "output_type": "execute_result"
        }
      ],
      "source": [
        "table_1999_ba = catesian_format(df_1999_ba, 'dim_pro_categoria')\n",
        "table_1999_ba"
      ]
    },
    {
      "cell_type": "code",
      "execution_count": 21,
      "id": "0baf2d50",
      "metadata": {
        "id": "0baf2d50"
      },
      "outputs": [],
      "source": [
        "table_1999_ba.loc[len(table_1999_ba.index)] = table_1999_ba.sum()\n",
        "table_1999_ba['Nome da Loja'] = ['LOJA1', 'LOJA2', 'TOTAL']"
      ]
    },
    {
      "cell_type": "code",
      "execution_count": 22,
      "id": "jznosRzkxv19",
      "metadata": {
        "colab": {
          "base_uri": "https://localhost:8080/",
          "height": 143
        },
        "id": "jznosRzkxv19",
        "outputId": "27edc675-471b-4bd0-d50a-e67cc444d06a"
      },
      "outputs": [
        {
          "data": {
            "text/html": [
              "<div>\n",
              "<style scoped>\n",
              "    .dataframe tbody tr th:only-of-type {\n",
              "        vertical-align: middle;\n",
              "    }\n",
              "\n",
              "    .dataframe tbody tr th {\n",
              "        vertical-align: top;\n",
              "    }\n",
              "\n",
              "    .dataframe thead th {\n",
              "        text-align: right;\n",
              "    }\n",
              "</style>\n",
              "<table border=\"1\" class=\"dataframe\">\n",
              "  <thead>\n",
              "    <tr style=\"text-align: right;\">\n",
              "      <th></th>\n",
              "      <th>Nome da Loja</th>\n",
              "      <th>CAT1</th>\n",
              "      <th>CAT2</th>\n",
              "    </tr>\n",
              "  </thead>\n",
              "  <tbody>\n",
              "    <tr>\n",
              "      <th>0</th>\n",
              "      <td>LOJA1</td>\n",
              "      <td>120.0</td>\n",
              "      <td>20.0</td>\n",
              "    </tr>\n",
              "    <tr>\n",
              "      <th>1</th>\n",
              "      <td>LOJA2</td>\n",
              "      <td>140.0</td>\n",
              "      <td>20.0</td>\n",
              "    </tr>\n",
              "    <tr>\n",
              "      <th>2</th>\n",
              "      <td>TOTAL</td>\n",
              "      <td>260.0</td>\n",
              "      <td>40.0</td>\n",
              "    </tr>\n",
              "  </tbody>\n",
              "</table>\n",
              "</div>"
            ],
            "text/plain": [
              "  Nome da Loja   CAT1  CAT2\n",
              "0        LOJA1  120.0  20.0\n",
              "1        LOJA2  140.0  20.0\n",
              "2        TOTAL  260.0  40.0"
            ]
          },
          "execution_count": 22,
          "metadata": {},
          "output_type": "execute_result"
        }
      ],
      "source": [
        "table_1999_ba[['Nome da Loja', 'CAT1', 'CAT2']]"
      ]
    },
    {
      "cell_type": "markdown",
      "id": "35265136",
      "metadata": {
        "id": "35265136"
      },
      "source": [
        "#### Gráfico faturamento por ano da categoria 1 na Bahia"
      ]
    },
    {
      "cell_type": "code",
      "execution_count": 23,
      "id": "4AiqUPdqwO6w",
      "metadata": {
        "colab": {
          "base_uri": "https://localhost:8080/",
          "height": 542
        },
        "id": "4AiqUPdqwO6w",
        "outputId": "b2d6acc7-eda1-4f3f-f112-d0411b7a14ac"
      },
      "outputs": [
        {
          "data": {
            "application/vnd.plotly.v1+json": {
              "config": {
                "plotlyServerURL": "https://plot.ly"
              },
              "data": [
                {
                  "hovertemplate": "dim_loj_nome=LOJA1<br>dim_tem_mes_ano=%{x}<br>fat_ven_faturamento=%{y}<extra></extra>",
                  "legendgroup": "LOJA1",
                  "line": {
                    "color": "#636efa",
                    "dash": "solid"
                  },
                  "marker": {
                    "symbol": "circle"
                  },
                  "mode": "lines",
                  "name": "LOJA1",
                  "orientation": "v",
                  "showlegend": true,
                  "type": "scatter",
                  "x": [
                    "01/1999",
                    "02/1999",
                    "01/2000",
                    "02/2000"
                  ],
                  "xaxis": "x",
                  "y": [
                    80,
                    60,
                    98,
                    100
                  ],
                  "yaxis": "y"
                },
                {
                  "hovertemplate": "dim_loj_nome=LOJA2<br>dim_tem_mes_ano=%{x}<br>fat_ven_faturamento=%{y}<extra></extra>",
                  "legendgroup": "LOJA2",
                  "line": {
                    "color": "#EF553B",
                    "dash": "solid"
                  },
                  "marker": {
                    "symbol": "circle"
                  },
                  "mode": "lines",
                  "name": "LOJA2",
                  "orientation": "v",
                  "showlegend": true,
                  "type": "scatter",
                  "x": [
                    "01/1999",
                    "02/1999",
                    "01/2000",
                    "02/2000"
                  ],
                  "xaxis": "x",
                  "y": [
                    60,
                    60,
                    71,
                    94
                  ],
                  "yaxis": "y"
                }
              ],
              "layout": {
                "legend": {
                  "title": {
                    "text": "dim_loj_nome"
                  },
                  "tracegroupgap": 0
                },
                "margin": {
                  "t": 60
                },
                "template": {
                  "data": {
                    "bar": [
                      {
                        "error_x": {
                          "color": "#2a3f5f"
                        },
                        "error_y": {
                          "color": "#2a3f5f"
                        },
                        "marker": {
                          "line": {
                            "color": "#E5ECF6",
                            "width": 0.5
                          },
                          "pattern": {
                            "fillmode": "overlay",
                            "size": 10,
                            "solidity": 0.2
                          }
                        },
                        "type": "bar"
                      }
                    ],
                    "barpolar": [
                      {
                        "marker": {
                          "line": {
                            "color": "#E5ECF6",
                            "width": 0.5
                          },
                          "pattern": {
                            "fillmode": "overlay",
                            "size": 10,
                            "solidity": 0.2
                          }
                        },
                        "type": "barpolar"
                      }
                    ],
                    "carpet": [
                      {
                        "aaxis": {
                          "endlinecolor": "#2a3f5f",
                          "gridcolor": "white",
                          "linecolor": "white",
                          "minorgridcolor": "white",
                          "startlinecolor": "#2a3f5f"
                        },
                        "baxis": {
                          "endlinecolor": "#2a3f5f",
                          "gridcolor": "white",
                          "linecolor": "white",
                          "minorgridcolor": "white",
                          "startlinecolor": "#2a3f5f"
                        },
                        "type": "carpet"
                      }
                    ],
                    "choropleth": [
                      {
                        "colorbar": {
                          "outlinewidth": 0,
                          "ticks": ""
                        },
                        "type": "choropleth"
                      }
                    ],
                    "contour": [
                      {
                        "colorbar": {
                          "outlinewidth": 0,
                          "ticks": ""
                        },
                        "colorscale": [
                          [
                            0,
                            "#0d0887"
                          ],
                          [
                            0.1111111111111111,
                            "#46039f"
                          ],
                          [
                            0.2222222222222222,
                            "#7201a8"
                          ],
                          [
                            0.3333333333333333,
                            "#9c179e"
                          ],
                          [
                            0.4444444444444444,
                            "#bd3786"
                          ],
                          [
                            0.5555555555555556,
                            "#d8576b"
                          ],
                          [
                            0.6666666666666666,
                            "#ed7953"
                          ],
                          [
                            0.7777777777777778,
                            "#fb9f3a"
                          ],
                          [
                            0.8888888888888888,
                            "#fdca26"
                          ],
                          [
                            1,
                            "#f0f921"
                          ]
                        ],
                        "type": "contour"
                      }
                    ],
                    "contourcarpet": [
                      {
                        "colorbar": {
                          "outlinewidth": 0,
                          "ticks": ""
                        },
                        "type": "contourcarpet"
                      }
                    ],
                    "heatmap": [
                      {
                        "colorbar": {
                          "outlinewidth": 0,
                          "ticks": ""
                        },
                        "colorscale": [
                          [
                            0,
                            "#0d0887"
                          ],
                          [
                            0.1111111111111111,
                            "#46039f"
                          ],
                          [
                            0.2222222222222222,
                            "#7201a8"
                          ],
                          [
                            0.3333333333333333,
                            "#9c179e"
                          ],
                          [
                            0.4444444444444444,
                            "#bd3786"
                          ],
                          [
                            0.5555555555555556,
                            "#d8576b"
                          ],
                          [
                            0.6666666666666666,
                            "#ed7953"
                          ],
                          [
                            0.7777777777777778,
                            "#fb9f3a"
                          ],
                          [
                            0.8888888888888888,
                            "#fdca26"
                          ],
                          [
                            1,
                            "#f0f921"
                          ]
                        ],
                        "type": "heatmap"
                      }
                    ],
                    "heatmapgl": [
                      {
                        "colorbar": {
                          "outlinewidth": 0,
                          "ticks": ""
                        },
                        "colorscale": [
                          [
                            0,
                            "#0d0887"
                          ],
                          [
                            0.1111111111111111,
                            "#46039f"
                          ],
                          [
                            0.2222222222222222,
                            "#7201a8"
                          ],
                          [
                            0.3333333333333333,
                            "#9c179e"
                          ],
                          [
                            0.4444444444444444,
                            "#bd3786"
                          ],
                          [
                            0.5555555555555556,
                            "#d8576b"
                          ],
                          [
                            0.6666666666666666,
                            "#ed7953"
                          ],
                          [
                            0.7777777777777778,
                            "#fb9f3a"
                          ],
                          [
                            0.8888888888888888,
                            "#fdca26"
                          ],
                          [
                            1,
                            "#f0f921"
                          ]
                        ],
                        "type": "heatmapgl"
                      }
                    ],
                    "histogram": [
                      {
                        "marker": {
                          "pattern": {
                            "fillmode": "overlay",
                            "size": 10,
                            "solidity": 0.2
                          }
                        },
                        "type": "histogram"
                      }
                    ],
                    "histogram2d": [
                      {
                        "colorbar": {
                          "outlinewidth": 0,
                          "ticks": ""
                        },
                        "colorscale": [
                          [
                            0,
                            "#0d0887"
                          ],
                          [
                            0.1111111111111111,
                            "#46039f"
                          ],
                          [
                            0.2222222222222222,
                            "#7201a8"
                          ],
                          [
                            0.3333333333333333,
                            "#9c179e"
                          ],
                          [
                            0.4444444444444444,
                            "#bd3786"
                          ],
                          [
                            0.5555555555555556,
                            "#d8576b"
                          ],
                          [
                            0.6666666666666666,
                            "#ed7953"
                          ],
                          [
                            0.7777777777777778,
                            "#fb9f3a"
                          ],
                          [
                            0.8888888888888888,
                            "#fdca26"
                          ],
                          [
                            1,
                            "#f0f921"
                          ]
                        ],
                        "type": "histogram2d"
                      }
                    ],
                    "histogram2dcontour": [
                      {
                        "colorbar": {
                          "outlinewidth": 0,
                          "ticks": ""
                        },
                        "colorscale": [
                          [
                            0,
                            "#0d0887"
                          ],
                          [
                            0.1111111111111111,
                            "#46039f"
                          ],
                          [
                            0.2222222222222222,
                            "#7201a8"
                          ],
                          [
                            0.3333333333333333,
                            "#9c179e"
                          ],
                          [
                            0.4444444444444444,
                            "#bd3786"
                          ],
                          [
                            0.5555555555555556,
                            "#d8576b"
                          ],
                          [
                            0.6666666666666666,
                            "#ed7953"
                          ],
                          [
                            0.7777777777777778,
                            "#fb9f3a"
                          ],
                          [
                            0.8888888888888888,
                            "#fdca26"
                          ],
                          [
                            1,
                            "#f0f921"
                          ]
                        ],
                        "type": "histogram2dcontour"
                      }
                    ],
                    "mesh3d": [
                      {
                        "colorbar": {
                          "outlinewidth": 0,
                          "ticks": ""
                        },
                        "type": "mesh3d"
                      }
                    ],
                    "parcoords": [
                      {
                        "line": {
                          "colorbar": {
                            "outlinewidth": 0,
                            "ticks": ""
                          }
                        },
                        "type": "parcoords"
                      }
                    ],
                    "pie": [
                      {
                        "automargin": true,
                        "type": "pie"
                      }
                    ],
                    "scatter": [
                      {
                        "marker": {
                          "colorbar": {
                            "outlinewidth": 0,
                            "ticks": ""
                          }
                        },
                        "type": "scatter"
                      }
                    ],
                    "scatter3d": [
                      {
                        "line": {
                          "colorbar": {
                            "outlinewidth": 0,
                            "ticks": ""
                          }
                        },
                        "marker": {
                          "colorbar": {
                            "outlinewidth": 0,
                            "ticks": ""
                          }
                        },
                        "type": "scatter3d"
                      }
                    ],
                    "scattercarpet": [
                      {
                        "marker": {
                          "colorbar": {
                            "outlinewidth": 0,
                            "ticks": ""
                          }
                        },
                        "type": "scattercarpet"
                      }
                    ],
                    "scattergeo": [
                      {
                        "marker": {
                          "colorbar": {
                            "outlinewidth": 0,
                            "ticks": ""
                          }
                        },
                        "type": "scattergeo"
                      }
                    ],
                    "scattergl": [
                      {
                        "marker": {
                          "colorbar": {
                            "outlinewidth": 0,
                            "ticks": ""
                          }
                        },
                        "type": "scattergl"
                      }
                    ],
                    "scattermapbox": [
                      {
                        "marker": {
                          "colorbar": {
                            "outlinewidth": 0,
                            "ticks": ""
                          }
                        },
                        "type": "scattermapbox"
                      }
                    ],
                    "scatterpolar": [
                      {
                        "marker": {
                          "colorbar": {
                            "outlinewidth": 0,
                            "ticks": ""
                          }
                        },
                        "type": "scatterpolar"
                      }
                    ],
                    "scatterpolargl": [
                      {
                        "marker": {
                          "colorbar": {
                            "outlinewidth": 0,
                            "ticks": ""
                          }
                        },
                        "type": "scatterpolargl"
                      }
                    ],
                    "scatterternary": [
                      {
                        "marker": {
                          "colorbar": {
                            "outlinewidth": 0,
                            "ticks": ""
                          }
                        },
                        "type": "scatterternary"
                      }
                    ],
                    "surface": [
                      {
                        "colorbar": {
                          "outlinewidth": 0,
                          "ticks": ""
                        },
                        "colorscale": [
                          [
                            0,
                            "#0d0887"
                          ],
                          [
                            0.1111111111111111,
                            "#46039f"
                          ],
                          [
                            0.2222222222222222,
                            "#7201a8"
                          ],
                          [
                            0.3333333333333333,
                            "#9c179e"
                          ],
                          [
                            0.4444444444444444,
                            "#bd3786"
                          ],
                          [
                            0.5555555555555556,
                            "#d8576b"
                          ],
                          [
                            0.6666666666666666,
                            "#ed7953"
                          ],
                          [
                            0.7777777777777778,
                            "#fb9f3a"
                          ],
                          [
                            0.8888888888888888,
                            "#fdca26"
                          ],
                          [
                            1,
                            "#f0f921"
                          ]
                        ],
                        "type": "surface"
                      }
                    ],
                    "table": [
                      {
                        "cells": {
                          "fill": {
                            "color": "#EBF0F8"
                          },
                          "line": {
                            "color": "white"
                          }
                        },
                        "header": {
                          "fill": {
                            "color": "#C8D4E3"
                          },
                          "line": {
                            "color": "white"
                          }
                        },
                        "type": "table"
                      }
                    ]
                  },
                  "layout": {
                    "annotationdefaults": {
                      "arrowcolor": "#2a3f5f",
                      "arrowhead": 0,
                      "arrowwidth": 1
                    },
                    "autotypenumbers": "strict",
                    "coloraxis": {
                      "colorbar": {
                        "outlinewidth": 0,
                        "ticks": ""
                      }
                    },
                    "colorscale": {
                      "diverging": [
                        [
                          0,
                          "#8e0152"
                        ],
                        [
                          0.1,
                          "#c51b7d"
                        ],
                        [
                          0.2,
                          "#de77ae"
                        ],
                        [
                          0.3,
                          "#f1b6da"
                        ],
                        [
                          0.4,
                          "#fde0ef"
                        ],
                        [
                          0.5,
                          "#f7f7f7"
                        ],
                        [
                          0.6,
                          "#e6f5d0"
                        ],
                        [
                          0.7,
                          "#b8e186"
                        ],
                        [
                          0.8,
                          "#7fbc41"
                        ],
                        [
                          0.9,
                          "#4d9221"
                        ],
                        [
                          1,
                          "#276419"
                        ]
                      ],
                      "sequential": [
                        [
                          0,
                          "#0d0887"
                        ],
                        [
                          0.1111111111111111,
                          "#46039f"
                        ],
                        [
                          0.2222222222222222,
                          "#7201a8"
                        ],
                        [
                          0.3333333333333333,
                          "#9c179e"
                        ],
                        [
                          0.4444444444444444,
                          "#bd3786"
                        ],
                        [
                          0.5555555555555556,
                          "#d8576b"
                        ],
                        [
                          0.6666666666666666,
                          "#ed7953"
                        ],
                        [
                          0.7777777777777778,
                          "#fb9f3a"
                        ],
                        [
                          0.8888888888888888,
                          "#fdca26"
                        ],
                        [
                          1,
                          "#f0f921"
                        ]
                      ],
                      "sequentialminus": [
                        [
                          0,
                          "#0d0887"
                        ],
                        [
                          0.1111111111111111,
                          "#46039f"
                        ],
                        [
                          0.2222222222222222,
                          "#7201a8"
                        ],
                        [
                          0.3333333333333333,
                          "#9c179e"
                        ],
                        [
                          0.4444444444444444,
                          "#bd3786"
                        ],
                        [
                          0.5555555555555556,
                          "#d8576b"
                        ],
                        [
                          0.6666666666666666,
                          "#ed7953"
                        ],
                        [
                          0.7777777777777778,
                          "#fb9f3a"
                        ],
                        [
                          0.8888888888888888,
                          "#fdca26"
                        ],
                        [
                          1,
                          "#f0f921"
                        ]
                      ]
                    },
                    "colorway": [
                      "#636efa",
                      "#EF553B",
                      "#00cc96",
                      "#ab63fa",
                      "#FFA15A",
                      "#19d3f3",
                      "#FF6692",
                      "#B6E880",
                      "#FF97FF",
                      "#FECB52"
                    ],
                    "font": {
                      "color": "#2a3f5f"
                    },
                    "geo": {
                      "bgcolor": "white",
                      "lakecolor": "white",
                      "landcolor": "#E5ECF6",
                      "showlakes": true,
                      "showland": true,
                      "subunitcolor": "white"
                    },
                    "hoverlabel": {
                      "align": "left"
                    },
                    "hovermode": "closest",
                    "mapbox": {
                      "style": "light"
                    },
                    "paper_bgcolor": "white",
                    "plot_bgcolor": "#E5ECF6",
                    "polar": {
                      "angularaxis": {
                        "gridcolor": "white",
                        "linecolor": "white",
                        "ticks": ""
                      },
                      "bgcolor": "#E5ECF6",
                      "radialaxis": {
                        "gridcolor": "white",
                        "linecolor": "white",
                        "ticks": ""
                      }
                    },
                    "scene": {
                      "xaxis": {
                        "backgroundcolor": "#E5ECF6",
                        "gridcolor": "white",
                        "gridwidth": 2,
                        "linecolor": "white",
                        "showbackground": true,
                        "ticks": "",
                        "zerolinecolor": "white"
                      },
                      "yaxis": {
                        "backgroundcolor": "#E5ECF6",
                        "gridcolor": "white",
                        "gridwidth": 2,
                        "linecolor": "white",
                        "showbackground": true,
                        "ticks": "",
                        "zerolinecolor": "white"
                      },
                      "zaxis": {
                        "backgroundcolor": "#E5ECF6",
                        "gridcolor": "white",
                        "gridwidth": 2,
                        "linecolor": "white",
                        "showbackground": true,
                        "ticks": "",
                        "zerolinecolor": "white"
                      }
                    },
                    "shapedefaults": {
                      "line": {
                        "color": "#2a3f5f"
                      }
                    },
                    "ternary": {
                      "aaxis": {
                        "gridcolor": "white",
                        "linecolor": "white",
                        "ticks": ""
                      },
                      "baxis": {
                        "gridcolor": "white",
                        "linecolor": "white",
                        "ticks": ""
                      },
                      "bgcolor": "#E5ECF6",
                      "caxis": {
                        "gridcolor": "white",
                        "linecolor": "white",
                        "ticks": ""
                      }
                    },
                    "title": {
                      "x": 0.05
                    },
                    "xaxis": {
                      "automargin": true,
                      "gridcolor": "white",
                      "linecolor": "white",
                      "ticks": "",
                      "title": {
                        "standoff": 15
                      },
                      "zerolinecolor": "white",
                      "zerolinewidth": 2
                    },
                    "yaxis": {
                      "automargin": true,
                      "gridcolor": "white",
                      "linecolor": "white",
                      "ticks": "",
                      "title": {
                        "standoff": 15
                      },
                      "zerolinecolor": "white",
                      "zerolinewidth": 2
                    }
                  }
                },
                "xaxis": {
                  "anchor": "y",
                  "domain": [
                    0,
                    1
                  ],
                  "title": {
                    "text": "dim_tem_mes_ano"
                  }
                },
                "yaxis": {
                  "anchor": "x",
                  "domain": [
                    0,
                    1
                  ],
                  "title": {
                    "text": "fat_ven_faturamento"
                  }
                }
              }
            }
          },
          "metadata": {},
          "output_type": "display_data"
        }
      ],
      "source": [
        "fig = px.line(data_frame=df_cat1_ba,\n",
        "        x='dim_tem_mes_ano', \n",
        "        y='fat_ven_faturamento',\n",
        "        color='dim_loj_nome')\n",
        "fig.show()"
      ]
    },
    {
      "cell_type": "markdown",
      "id": "f3785b27",
      "metadata": {
        "id": "f3785b27"
      },
      "source": [
        "### Etapa 08"
      ]
    },
    {
      "cell_type": "markdown",
      "id": "103d32c3",
      "metadata": {
        "id": "103d32c3"
      },
      "source": [
        "- Criar no Power BI uma  nova coluna do tipo data na tabela dimensão DIM_TEM_DIA_MES_ANO\n"
      ]
    },
    {
      "cell_type": "code",
      "execution_count": 24,
      "id": "bb27cd67",
      "metadata": {
        "colab": {
          "base_uri": "https://localhost:8080/",
          "height": 374
        },
        "id": "bb27cd67",
        "outputId": "eb0b4130-17e0-4a34-b86e-0b686b3af7ba"
      },
      "outputs": [
        {
          "data": {
            "text/html": [
              "<div>\n",
              "<style scoped>\n",
              "    .dataframe tbody tr th:only-of-type {\n",
              "        vertical-align: middle;\n",
              "    }\n",
              "\n",
              "    .dataframe tbody tr th {\n",
              "        vertical-align: top;\n",
              "    }\n",
              "\n",
              "    .dataframe thead th {\n",
              "        text-align: right;\n",
              "    }\n",
              "</style>\n",
              "<table border=\"1\" class=\"dataframe\">\n",
              "  <thead>\n",
              "    <tr style=\"text-align: right;\">\n",
              "      <th></th>\n",
              "      <th>Unnamed: 0</th>\n",
              "      <th>dim_loj_nome</th>\n",
              "      <th>dim_loj_estado</th>\n",
              "      <th>dim_pro_nome</th>\n",
              "      <th>dim_pro_categoria</th>\n",
              "      <th>dim_pro_familia</th>\n",
              "      <th>dim_tem_dia</th>\n",
              "      <th>dim_tem_mes</th>\n",
              "      <th>dim_tem_ano</th>\n",
              "      <th>fat_ven_quantidade</th>\n",
              "      <th>fat_ven_faturamento</th>\n",
              "      <th>date</th>\n",
              "      <th>dim_tem_mes_ano</th>\n",
              "      <th>dim_dia_mes_ano</th>\n",
              "    </tr>\n",
              "  </thead>\n",
              "  <tbody>\n",
              "    <tr>\n",
              "      <th>0</th>\n",
              "      <td>0</td>\n",
              "      <td>LOJA1</td>\n",
              "      <td>BA</td>\n",
              "      <td>P1</td>\n",
              "      <td>CAT1</td>\n",
              "      <td>F1</td>\n",
              "      <td>15</td>\n",
              "      <td>1</td>\n",
              "      <td>1999</td>\n",
              "      <td>10.0</td>\n",
              "      <td>20.0</td>\n",
              "      <td>1999-01-15</td>\n",
              "      <td>01/1999</td>\n",
              "      <td>Friday, January 15, 1999</td>\n",
              "    </tr>\n",
              "    <tr>\n",
              "      <th>1</th>\n",
              "      <td>1</td>\n",
              "      <td>LOJA1</td>\n",
              "      <td>BA</td>\n",
              "      <td>P2</td>\n",
              "      <td>CAT1</td>\n",
              "      <td>F1</td>\n",
              "      <td>15</td>\n",
              "      <td>1</td>\n",
              "      <td>1999</td>\n",
              "      <td>30.0</td>\n",
              "      <td>40.0</td>\n",
              "      <td>1999-01-15</td>\n",
              "      <td>01/1999</td>\n",
              "      <td>Friday, January 15, 1999</td>\n",
              "    </tr>\n",
              "    <tr>\n",
              "      <th>2</th>\n",
              "      <td>2</td>\n",
              "      <td>LOJA1</td>\n",
              "      <td>BA</td>\n",
              "      <td>P3</td>\n",
              "      <td>CAT1</td>\n",
              "      <td>F1</td>\n",
              "      <td>15</td>\n",
              "      <td>1</td>\n",
              "      <td>1999</td>\n",
              "      <td>10.0</td>\n",
              "      <td>20.0</td>\n",
              "      <td>1999-01-15</td>\n",
              "      <td>01/1999</td>\n",
              "      <td>Friday, January 15, 1999</td>\n",
              "    </tr>\n",
              "    <tr>\n",
              "      <th>3</th>\n",
              "      <td>3</td>\n",
              "      <td>LOJA1</td>\n",
              "      <td>BA</td>\n",
              "      <td>P1</td>\n",
              "      <td>CAT1</td>\n",
              "      <td>F1</td>\n",
              "      <td>15</td>\n",
              "      <td>2</td>\n",
              "      <td>1999</td>\n",
              "      <td>10.0</td>\n",
              "      <td>20.0</td>\n",
              "      <td>1999-02-15</td>\n",
              "      <td>02/1999</td>\n",
              "      <td>Monday, February 15, 1999</td>\n",
              "    </tr>\n",
              "    <tr>\n",
              "      <th>4</th>\n",
              "      <td>4</td>\n",
              "      <td>LOJA1</td>\n",
              "      <td>BA</td>\n",
              "      <td>P2</td>\n",
              "      <td>CAT1</td>\n",
              "      <td>F1</td>\n",
              "      <td>15</td>\n",
              "      <td>2</td>\n",
              "      <td>1999</td>\n",
              "      <td>30.0</td>\n",
              "      <td>40.0</td>\n",
              "      <td>1999-02-15</td>\n",
              "      <td>02/1999</td>\n",
              "      <td>Monday, February 15, 1999</td>\n",
              "    </tr>\n",
              "  </tbody>\n",
              "</table>\n",
              "</div>"
            ],
            "text/plain": [
              "   Unnamed: 0 dim_loj_nome dim_loj_estado dim_pro_nome dim_pro_categoria  \\\n",
              "0           0        LOJA1             BA           P1              CAT1   \n",
              "1           1        LOJA1             BA           P2              CAT1   \n",
              "2           2        LOJA1             BA           P3              CAT1   \n",
              "3           3        LOJA1             BA           P1              CAT1   \n",
              "4           4        LOJA1             BA           P2              CAT1   \n",
              "\n",
              "  dim_pro_familia dim_tem_dia dim_tem_mes dim_tem_ano  fat_ven_quantidade  \\\n",
              "0            F1            15           1        1999                10.0   \n",
              "1            F1            15           1        1999                30.0   \n",
              "2            F1            15           1        1999                10.0   \n",
              "3            F1            15           2        1999                10.0   \n",
              "4            F1            15           2        1999                30.0   \n",
              "\n",
              "   fat_ven_faturamento       date dim_tem_mes_ano            dim_dia_mes_ano  \n",
              "0                 20.0 1999-01-15         01/1999   Friday, January 15, 1999  \n",
              "1                 40.0 1999-01-15         01/1999   Friday, January 15, 1999  \n",
              "2                 20.0 1999-01-15         01/1999   Friday, January 15, 1999  \n",
              "3                 20.0 1999-02-15         02/1999  Monday, February 15, 1999  \n",
              "4                 40.0 1999-02-15         02/1999  Monday, February 15, 1999  "
            ]
          },
          "execution_count": 24,
          "metadata": {},
          "output_type": "execute_result"
        }
      ],
      "source": [
        "df['dim_dia_mes_ano'] = df['date'].dt.strftime('%A, %B %d, %Y')\n",
        "df.head()"
      ]
    },
    {
      "cell_type": "markdown",
      "id": "42c8d07e",
      "metadata": {
        "id": "42c8d07e"
      },
      "source": [
        "### Etapa 09"
      ]
    },
    {
      "cell_type": "markdown",
      "id": "456f9f45",
      "metadata": {
        "id": "456f9f45"
      },
      "source": [
        "- Criar uma medida para apresentar o crescimento percentual do faturamento dos estados “BA” e “PB” entre os anos 1999 e 2000.\n",
        "- Apresentar as tabelas com os componentes"
      ]
    },
    {
      "cell_type": "code",
      "execution_count": 25,
      "id": "28968c5c",
      "metadata": {
        "colab": {
          "base_uri": "https://localhost:8080/"
        },
        "id": "28968c5c",
        "outputId": "87fd9057-0e6e-4770-e0b2-af03abf93f28"
      },
      "outputs": [
        {
          "name": "stdout",
          "output_type": "stream",
          "text": [
            "Faturamento total: 1065.0\n"
          ]
        }
      ],
      "source": [
        "total = df['fat_ven_faturamento'].sum()\n",
        "print(f\"Faturamento total: {total}\")"
      ]
    },
    {
      "cell_type": "code",
      "execution_count": 26,
      "id": "276f94b5",
      "metadata": {
        "colab": {
          "base_uri": "https://localhost:8080/"
        },
        "id": "276f94b5",
        "outputId": "26ccfe73-f677-4092-d0aa-30e5fd327abe"
      },
      "outputs": [
        {
          "name": "stdout",
          "output_type": "stream",
          "text": [
            "Ano anterior ao atual: 1999\n"
          ]
        }
      ],
      "source": [
        "prior_current = (df['dim_tem_ano']\n",
        "                .drop_duplicates()\n",
        "                .astype(int)\n",
        "                .nlargest(2)\n",
        "                .to_list()[-1])\n",
        "print(f\"Ano anterior ao atual: {prior_current}\")"
      ]
    },
    {
      "cell_type": "code",
      "execution_count": 27,
      "id": "a2c9246e",
      "metadata": {
        "colab": {
          "base_uri": "https://localhost:8080/"
        },
        "id": "a2c9246e",
        "outputId": "73ff8635-0c76-4cec-e2ff-b8ec5d4eecc8"
      },
      "outputs": [
        {
          "name": "stdout",
          "output_type": "stream",
          "text": [
            "O faturamento total do último ano foi: 440.0\n"
          ]
        }
      ],
      "source": [
        "prior_current_total = (df\n",
        "                       .query(f\"dim_tem_ano == '{prior_current}'\")\n",
        "                       .loc[:, 'fat_ven_faturamento']\n",
        "                       .sum())\n",
        "print(f\"O faturamento total do último ano foi: {prior_current_total}\")"
      ]
    },
    {
      "cell_type": "code",
      "execution_count": 28,
      "id": "3658e426",
      "metadata": {
        "colab": {
          "base_uri": "https://localhost:8080/"
        },
        "id": "3658e426",
        "outputId": "c7bdcea6-35de-4d1b-dd4d-535948586056"
      },
      "outputs": [
        {
          "name": "stdout",
          "output_type": "stream",
          "text": [
            "O faturamento Yoy foi: 0.4204545454545454\n"
          ]
        }
      ],
      "source": [
        "yoy = ((total-prior_current_total)/prior_current_total) - 1\n",
        "print(f\"O faturamento Yoy foi: {yoy}\")"
      ]
    },
    {
      "cell_type": "markdown",
      "id": "6278255d",
      "metadata": {
        "id": "6278255d"
      },
      "source": [
        "#### Tabela faturamento yoy por estado"
      ]
    },
    {
      "cell_type": "code",
      "execution_count": 29,
      "id": "83a1a039",
      "metadata": {
        "id": "83a1a039"
      },
      "outputs": [],
      "source": [
        "def calculate_yoy(dataframe, query_string = None):\n",
        "    if query_string:\n",
        "        dataframe = dataframe.query(query_string)\n",
        "        \n",
        "    total = dataframe['fat_ven_faturamento'].sum()\n",
        "    \n",
        "    prior_current = (dataframe['dim_tem_ano']\n",
        "                     .drop_duplicates()\n",
        "                     .astype(int)\n",
        "                     .nlargest(2)\n",
        "                     .to_list()[-1])\n",
        "    \n",
        "    prior_current_total = (dataframe\n",
        "                           .query(f\"dim_tem_ano == '{prior_current}'\")\n",
        "                           .loc[:, 'fat_ven_faturamento']\n",
        "                           .sum())\n",
        "    yoy = ((total-prior_current_total)/prior_current_total) - 1\n",
        "    return yoy"
      ]
    },
    {
      "cell_type": "code",
      "execution_count": 30,
      "id": "a8f8ac25",
      "metadata": {
        "colab": {
          "base_uri": "https://localhost:8080/"
        },
        "id": "a8f8ac25",
        "outputId": "7c1980a7-f8db-43d5-8879-a68203efb836"
      },
      "outputs": [
        {
          "data": {
            "text/plain": [
              "0.20999999999999996"
            ]
          },
          "execution_count": 30,
          "metadata": {},
          "output_type": "execute_result"
        }
      ],
      "source": [
        "calculate_yoy(df, \"dim_loj_estado == 'BA'\")"
      ]
    },
    {
      "cell_type": "code",
      "execution_count": 31,
      "id": "61fe40f0",
      "metadata": {
        "colab": {
          "base_uri": "https://localhost:8080/"
        },
        "id": "61fe40f0",
        "outputId": "3f39af62-1e9c-4421-f7e6-f0ad3be0d2ae"
      },
      "outputs": [
        {
          "data": {
            "text/plain": [
              "0.8714285714285714"
            ]
          },
          "execution_count": 31,
          "metadata": {},
          "output_type": "execute_result"
        }
      ],
      "source": [
        "calculate_yoy(df, \"dim_loj_estado == 'PB'\")"
      ]
    },
    {
      "cell_type": "code",
      "execution_count": 32,
      "id": "cd48c35c",
      "metadata": {
        "colab": {
          "base_uri": "https://localhost:8080/",
          "height": 112
        },
        "id": "cd48c35c",
        "outputId": "51b6879d-a296-4cb5-d04c-8733cfd364f9"
      },
      "outputs": [
        {
          "data": {
            "text/html": [
              "<div>\n",
              "<style scoped>\n",
              "    .dataframe tbody tr th:only-of-type {\n",
              "        vertical-align: middle;\n",
              "    }\n",
              "\n",
              "    .dataframe tbody tr th {\n",
              "        vertical-align: top;\n",
              "    }\n",
              "\n",
              "    .dataframe thead th {\n",
              "        text-align: right;\n",
              "    }\n",
              "</style>\n",
              "<table border=\"1\" class=\"dataframe\">\n",
              "  <thead>\n",
              "    <tr style=\"text-align: right;\">\n",
              "      <th></th>\n",
              "      <th>Estados</th>\n",
              "      <th>Faturamento yoy %</th>\n",
              "    </tr>\n",
              "  </thead>\n",
              "  <tbody>\n",
              "    <tr>\n",
              "      <th>0</th>\n",
              "      <td>BA</td>\n",
              "      <td>21.00</td>\n",
              "    </tr>\n",
              "    <tr>\n",
              "      <th>1</th>\n",
              "      <td>PB</td>\n",
              "      <td>87.14</td>\n",
              "    </tr>\n",
              "  </tbody>\n",
              "</table>\n",
              "</div>"
            ],
            "text/plain": [
              "  Estados  Faturamento yoy %\n",
              "0      BA              21.00\n",
              "1      PB              87.14"
            ]
          },
          "execution_count": 32,
          "metadata": {},
          "output_type": "execute_result"
        }
      ],
      "source": [
        "table_faturamento_estado = pd.DataFrame(\n",
        "    {'Estados': ['BA', 'PB'], \n",
        "     'Faturamento yoy %': [\n",
        "           calculate_yoy(df, \"dim_loj_estado == 'BA'\") * 100,\n",
        "           calculate_yoy(df, \"dim_loj_estado == 'PB'\") * 100\n",
        "       ]}\n",
        ").round(2)\n",
        "table_faturamento_estado"
      ]
    },
    {
      "cell_type": "markdown",
      "id": "86fb79a5",
      "metadata": {
        "id": "86fb79a5"
      },
      "source": [
        "#### Tabela faturamento por ano e estado"
      ]
    },
    {
      "cell_type": "code",
      "execution_count": 33,
      "id": "cca2d6c3",
      "metadata": {
        "id": "cca2d6c3"
      },
      "outputs": [],
      "source": [
        "keys = ['dim_loj_estado', 'dim_tem_ano', 'fat_ven_faturamento']"
      ]
    },
    {
      "cell_type": "code",
      "execution_count": 34,
      "id": "aee669b4",
      "metadata": {
        "colab": {
          "base_uri": "https://localhost:8080/",
          "height": 174
        },
        "id": "aee669b4",
        "outputId": "faa4ed86-9c00-45b9-df1c-f49722ffc693"
      },
      "outputs": [
        {
          "data": {
            "text/html": [
              "<div>\n",
              "<style scoped>\n",
              "    .dataframe tbody tr th:only-of-type {\n",
              "        vertical-align: middle;\n",
              "    }\n",
              "\n",
              "    .dataframe tbody tr th {\n",
              "        vertical-align: top;\n",
              "    }\n",
              "\n",
              "    .dataframe thead th {\n",
              "        text-align: right;\n",
              "    }\n",
              "</style>\n",
              "<table border=\"1\" class=\"dataframe\">\n",
              "  <thead>\n",
              "    <tr style=\"text-align: right;\">\n",
              "      <th></th>\n",
              "      <th>dim_tem_ano</th>\n",
              "      <th>dim_loj_estado</th>\n",
              "      <th>fat_ven_faturamento</th>\n",
              "    </tr>\n",
              "  </thead>\n",
              "  <tbody>\n",
              "    <tr>\n",
              "      <th>0</th>\n",
              "      <td>1999</td>\n",
              "      <td>BA</td>\n",
              "      <td>300.0</td>\n",
              "    </tr>\n",
              "    <tr>\n",
              "      <th>1</th>\n",
              "      <td>1999</td>\n",
              "      <td>PB</td>\n",
              "      <td>140.0</td>\n",
              "    </tr>\n",
              "    <tr>\n",
              "      <th>2</th>\n",
              "      <td>2000</td>\n",
              "      <td>BA</td>\n",
              "      <td>363.0</td>\n",
              "    </tr>\n",
              "    <tr>\n",
              "      <th>3</th>\n",
              "      <td>2000</td>\n",
              "      <td>PB</td>\n",
              "      <td>262.0</td>\n",
              "    </tr>\n",
              "  </tbody>\n",
              "</table>\n",
              "</div>"
            ],
            "text/plain": [
              "  dim_tem_ano dim_loj_estado  fat_ven_faturamento\n",
              "0        1999             BA                300.0\n",
              "1        1999             PB                140.0\n",
              "2        2000             BA                363.0\n",
              "3        2000             PB                262.0"
            ]
          },
          "execution_count": 34,
          "metadata": {},
          "output_type": "execute_result"
        }
      ],
      "source": [
        "year_states = (\n",
        "    df.loc[:, keys]\n",
        "    .groupby(['dim_tem_ano', 'dim_loj_estado'],as_index=False)\n",
        "    .sum()\n",
        ")\n",
        "year_states"
      ]
    },
    {
      "cell_type": "code",
      "execution_count": 35,
      "id": "f05c74cb",
      "metadata": {
        "id": "f05c74cb"
      },
      "outputs": [],
      "source": [
        "table_year_states = catesian_format(year_states, key=\"dim_tem_ano\")"
      ]
    },
    {
      "cell_type": "code",
      "execution_count": 36,
      "id": "6be1a703",
      "metadata": {
        "id": "6be1a703"
      },
      "outputs": [],
      "source": [
        "table_year_states['TOTAL'] = table_year_states.sum(axis=1)\n",
        "table_year_states['Estados'] = ['BA', 'PB']"
      ]
    },
    {
      "cell_type": "code",
      "execution_count": 37,
      "id": "uxN-RyoRygqp",
      "metadata": {
        "colab": {
          "base_uri": "https://localhost:8080/",
          "height": 112
        },
        "id": "uxN-RyoRygqp",
        "outputId": "d3ff2b3e-7753-40fc-e10d-5443dce77d83"
      },
      "outputs": [
        {
          "data": {
            "text/html": [
              "<div>\n",
              "<style scoped>\n",
              "    .dataframe tbody tr th:only-of-type {\n",
              "        vertical-align: middle;\n",
              "    }\n",
              "\n",
              "    .dataframe tbody tr th {\n",
              "        vertical-align: top;\n",
              "    }\n",
              "\n",
              "    .dataframe thead th {\n",
              "        text-align: right;\n",
              "    }\n",
              "</style>\n",
              "<table border=\"1\" class=\"dataframe\">\n",
              "  <thead>\n",
              "    <tr style=\"text-align: right;\">\n",
              "      <th></th>\n",
              "      <th>Estados</th>\n",
              "      <th>1999</th>\n",
              "      <th>2000</th>\n",
              "      <th>TOTAL</th>\n",
              "    </tr>\n",
              "  </thead>\n",
              "  <tbody>\n",
              "    <tr>\n",
              "      <th>0</th>\n",
              "      <td>BA</td>\n",
              "      <td>300.0</td>\n",
              "      <td>363.0</td>\n",
              "      <td>663.0</td>\n",
              "    </tr>\n",
              "    <tr>\n",
              "      <th>1</th>\n",
              "      <td>PB</td>\n",
              "      <td>140.0</td>\n",
              "      <td>262.0</td>\n",
              "      <td>402.0</td>\n",
              "    </tr>\n",
              "  </tbody>\n",
              "</table>\n",
              "</div>"
            ],
            "text/plain": [
              "  Estados   1999   2000  TOTAL\n",
              "0      BA  300.0  363.0  663.0\n",
              "1      PB  140.0  262.0  402.0"
            ]
          },
          "execution_count": 37,
          "metadata": {},
          "output_type": "execute_result"
        }
      ],
      "source": [
        "table_year_states[['Estados', '1999', '2000', 'TOTAL']]"
      ]
    },
    {
      "cell_type": "markdown",
      "id": "b18907f6",
      "metadata": {
        "id": "b18907f6"
      },
      "source": [
        "#### Gráfico faturamento por ano e estado"
      ]
    },
    {
      "cell_type": "code",
      "execution_count": 38,
      "id": "3629b737",
      "metadata": {
        "colab": {
          "base_uri": "https://localhost:8080/",
          "height": 542
        },
        "id": "3629b737",
        "outputId": "d699df91-c343-4cec-d746-6333556d9ef6"
      },
      "outputs": [
        {
          "data": {
            "application/vnd.plotly.v1+json": {
              "config": {
                "plotlyServerURL": "https://plot.ly"
              },
              "data": [
                {
                  "hovertemplate": "dim_loj_estado=BA<br>dim_tem_ano=%{x}<br>fat_ven_faturamento=%{y}<extra></extra>",
                  "legendgroup": "BA",
                  "line": {
                    "color": "#636efa",
                    "dash": "solid"
                  },
                  "marker": {
                    "symbol": "circle"
                  },
                  "mode": "lines",
                  "name": "BA",
                  "orientation": "v",
                  "showlegend": true,
                  "type": "scatter",
                  "x": [
                    "1999",
                    "2000"
                  ],
                  "xaxis": "x",
                  "y": [
                    300,
                    363
                  ],
                  "yaxis": "y"
                },
                {
                  "hovertemplate": "dim_loj_estado=PB<br>dim_tem_ano=%{x}<br>fat_ven_faturamento=%{y}<extra></extra>",
                  "legendgroup": "PB",
                  "line": {
                    "color": "#EF553B",
                    "dash": "solid"
                  },
                  "marker": {
                    "symbol": "circle"
                  },
                  "mode": "lines",
                  "name": "PB",
                  "orientation": "v",
                  "showlegend": true,
                  "type": "scatter",
                  "x": [
                    "1999",
                    "2000"
                  ],
                  "xaxis": "x",
                  "y": [
                    140,
                    262
                  ],
                  "yaxis": "y"
                }
              ],
              "layout": {
                "legend": {
                  "title": {
                    "text": "dim_loj_estado"
                  },
                  "tracegroupgap": 0
                },
                "margin": {
                  "t": 60
                },
                "template": {
                  "data": {
                    "bar": [
                      {
                        "error_x": {
                          "color": "#2a3f5f"
                        },
                        "error_y": {
                          "color": "#2a3f5f"
                        },
                        "marker": {
                          "line": {
                            "color": "#E5ECF6",
                            "width": 0.5
                          },
                          "pattern": {
                            "fillmode": "overlay",
                            "size": 10,
                            "solidity": 0.2
                          }
                        },
                        "type": "bar"
                      }
                    ],
                    "barpolar": [
                      {
                        "marker": {
                          "line": {
                            "color": "#E5ECF6",
                            "width": 0.5
                          },
                          "pattern": {
                            "fillmode": "overlay",
                            "size": 10,
                            "solidity": 0.2
                          }
                        },
                        "type": "barpolar"
                      }
                    ],
                    "carpet": [
                      {
                        "aaxis": {
                          "endlinecolor": "#2a3f5f",
                          "gridcolor": "white",
                          "linecolor": "white",
                          "minorgridcolor": "white",
                          "startlinecolor": "#2a3f5f"
                        },
                        "baxis": {
                          "endlinecolor": "#2a3f5f",
                          "gridcolor": "white",
                          "linecolor": "white",
                          "minorgridcolor": "white",
                          "startlinecolor": "#2a3f5f"
                        },
                        "type": "carpet"
                      }
                    ],
                    "choropleth": [
                      {
                        "colorbar": {
                          "outlinewidth": 0,
                          "ticks": ""
                        },
                        "type": "choropleth"
                      }
                    ],
                    "contour": [
                      {
                        "colorbar": {
                          "outlinewidth": 0,
                          "ticks": ""
                        },
                        "colorscale": [
                          [
                            0,
                            "#0d0887"
                          ],
                          [
                            0.1111111111111111,
                            "#46039f"
                          ],
                          [
                            0.2222222222222222,
                            "#7201a8"
                          ],
                          [
                            0.3333333333333333,
                            "#9c179e"
                          ],
                          [
                            0.4444444444444444,
                            "#bd3786"
                          ],
                          [
                            0.5555555555555556,
                            "#d8576b"
                          ],
                          [
                            0.6666666666666666,
                            "#ed7953"
                          ],
                          [
                            0.7777777777777778,
                            "#fb9f3a"
                          ],
                          [
                            0.8888888888888888,
                            "#fdca26"
                          ],
                          [
                            1,
                            "#f0f921"
                          ]
                        ],
                        "type": "contour"
                      }
                    ],
                    "contourcarpet": [
                      {
                        "colorbar": {
                          "outlinewidth": 0,
                          "ticks": ""
                        },
                        "type": "contourcarpet"
                      }
                    ],
                    "heatmap": [
                      {
                        "colorbar": {
                          "outlinewidth": 0,
                          "ticks": ""
                        },
                        "colorscale": [
                          [
                            0,
                            "#0d0887"
                          ],
                          [
                            0.1111111111111111,
                            "#46039f"
                          ],
                          [
                            0.2222222222222222,
                            "#7201a8"
                          ],
                          [
                            0.3333333333333333,
                            "#9c179e"
                          ],
                          [
                            0.4444444444444444,
                            "#bd3786"
                          ],
                          [
                            0.5555555555555556,
                            "#d8576b"
                          ],
                          [
                            0.6666666666666666,
                            "#ed7953"
                          ],
                          [
                            0.7777777777777778,
                            "#fb9f3a"
                          ],
                          [
                            0.8888888888888888,
                            "#fdca26"
                          ],
                          [
                            1,
                            "#f0f921"
                          ]
                        ],
                        "type": "heatmap"
                      }
                    ],
                    "heatmapgl": [
                      {
                        "colorbar": {
                          "outlinewidth": 0,
                          "ticks": ""
                        },
                        "colorscale": [
                          [
                            0,
                            "#0d0887"
                          ],
                          [
                            0.1111111111111111,
                            "#46039f"
                          ],
                          [
                            0.2222222222222222,
                            "#7201a8"
                          ],
                          [
                            0.3333333333333333,
                            "#9c179e"
                          ],
                          [
                            0.4444444444444444,
                            "#bd3786"
                          ],
                          [
                            0.5555555555555556,
                            "#d8576b"
                          ],
                          [
                            0.6666666666666666,
                            "#ed7953"
                          ],
                          [
                            0.7777777777777778,
                            "#fb9f3a"
                          ],
                          [
                            0.8888888888888888,
                            "#fdca26"
                          ],
                          [
                            1,
                            "#f0f921"
                          ]
                        ],
                        "type": "heatmapgl"
                      }
                    ],
                    "histogram": [
                      {
                        "marker": {
                          "pattern": {
                            "fillmode": "overlay",
                            "size": 10,
                            "solidity": 0.2
                          }
                        },
                        "type": "histogram"
                      }
                    ],
                    "histogram2d": [
                      {
                        "colorbar": {
                          "outlinewidth": 0,
                          "ticks": ""
                        },
                        "colorscale": [
                          [
                            0,
                            "#0d0887"
                          ],
                          [
                            0.1111111111111111,
                            "#46039f"
                          ],
                          [
                            0.2222222222222222,
                            "#7201a8"
                          ],
                          [
                            0.3333333333333333,
                            "#9c179e"
                          ],
                          [
                            0.4444444444444444,
                            "#bd3786"
                          ],
                          [
                            0.5555555555555556,
                            "#d8576b"
                          ],
                          [
                            0.6666666666666666,
                            "#ed7953"
                          ],
                          [
                            0.7777777777777778,
                            "#fb9f3a"
                          ],
                          [
                            0.8888888888888888,
                            "#fdca26"
                          ],
                          [
                            1,
                            "#f0f921"
                          ]
                        ],
                        "type": "histogram2d"
                      }
                    ],
                    "histogram2dcontour": [
                      {
                        "colorbar": {
                          "outlinewidth": 0,
                          "ticks": ""
                        },
                        "colorscale": [
                          [
                            0,
                            "#0d0887"
                          ],
                          [
                            0.1111111111111111,
                            "#46039f"
                          ],
                          [
                            0.2222222222222222,
                            "#7201a8"
                          ],
                          [
                            0.3333333333333333,
                            "#9c179e"
                          ],
                          [
                            0.4444444444444444,
                            "#bd3786"
                          ],
                          [
                            0.5555555555555556,
                            "#d8576b"
                          ],
                          [
                            0.6666666666666666,
                            "#ed7953"
                          ],
                          [
                            0.7777777777777778,
                            "#fb9f3a"
                          ],
                          [
                            0.8888888888888888,
                            "#fdca26"
                          ],
                          [
                            1,
                            "#f0f921"
                          ]
                        ],
                        "type": "histogram2dcontour"
                      }
                    ],
                    "mesh3d": [
                      {
                        "colorbar": {
                          "outlinewidth": 0,
                          "ticks": ""
                        },
                        "type": "mesh3d"
                      }
                    ],
                    "parcoords": [
                      {
                        "line": {
                          "colorbar": {
                            "outlinewidth": 0,
                            "ticks": ""
                          }
                        },
                        "type": "parcoords"
                      }
                    ],
                    "pie": [
                      {
                        "automargin": true,
                        "type": "pie"
                      }
                    ],
                    "scatter": [
                      {
                        "marker": {
                          "colorbar": {
                            "outlinewidth": 0,
                            "ticks": ""
                          }
                        },
                        "type": "scatter"
                      }
                    ],
                    "scatter3d": [
                      {
                        "line": {
                          "colorbar": {
                            "outlinewidth": 0,
                            "ticks": ""
                          }
                        },
                        "marker": {
                          "colorbar": {
                            "outlinewidth": 0,
                            "ticks": ""
                          }
                        },
                        "type": "scatter3d"
                      }
                    ],
                    "scattercarpet": [
                      {
                        "marker": {
                          "colorbar": {
                            "outlinewidth": 0,
                            "ticks": ""
                          }
                        },
                        "type": "scattercarpet"
                      }
                    ],
                    "scattergeo": [
                      {
                        "marker": {
                          "colorbar": {
                            "outlinewidth": 0,
                            "ticks": ""
                          }
                        },
                        "type": "scattergeo"
                      }
                    ],
                    "scattergl": [
                      {
                        "marker": {
                          "colorbar": {
                            "outlinewidth": 0,
                            "ticks": ""
                          }
                        },
                        "type": "scattergl"
                      }
                    ],
                    "scattermapbox": [
                      {
                        "marker": {
                          "colorbar": {
                            "outlinewidth": 0,
                            "ticks": ""
                          }
                        },
                        "type": "scattermapbox"
                      }
                    ],
                    "scatterpolar": [
                      {
                        "marker": {
                          "colorbar": {
                            "outlinewidth": 0,
                            "ticks": ""
                          }
                        },
                        "type": "scatterpolar"
                      }
                    ],
                    "scatterpolargl": [
                      {
                        "marker": {
                          "colorbar": {
                            "outlinewidth": 0,
                            "ticks": ""
                          }
                        },
                        "type": "scatterpolargl"
                      }
                    ],
                    "scatterternary": [
                      {
                        "marker": {
                          "colorbar": {
                            "outlinewidth": 0,
                            "ticks": ""
                          }
                        },
                        "type": "scatterternary"
                      }
                    ],
                    "surface": [
                      {
                        "colorbar": {
                          "outlinewidth": 0,
                          "ticks": ""
                        },
                        "colorscale": [
                          [
                            0,
                            "#0d0887"
                          ],
                          [
                            0.1111111111111111,
                            "#46039f"
                          ],
                          [
                            0.2222222222222222,
                            "#7201a8"
                          ],
                          [
                            0.3333333333333333,
                            "#9c179e"
                          ],
                          [
                            0.4444444444444444,
                            "#bd3786"
                          ],
                          [
                            0.5555555555555556,
                            "#d8576b"
                          ],
                          [
                            0.6666666666666666,
                            "#ed7953"
                          ],
                          [
                            0.7777777777777778,
                            "#fb9f3a"
                          ],
                          [
                            0.8888888888888888,
                            "#fdca26"
                          ],
                          [
                            1,
                            "#f0f921"
                          ]
                        ],
                        "type": "surface"
                      }
                    ],
                    "table": [
                      {
                        "cells": {
                          "fill": {
                            "color": "#EBF0F8"
                          },
                          "line": {
                            "color": "white"
                          }
                        },
                        "header": {
                          "fill": {
                            "color": "#C8D4E3"
                          },
                          "line": {
                            "color": "white"
                          }
                        },
                        "type": "table"
                      }
                    ]
                  },
                  "layout": {
                    "annotationdefaults": {
                      "arrowcolor": "#2a3f5f",
                      "arrowhead": 0,
                      "arrowwidth": 1
                    },
                    "autotypenumbers": "strict",
                    "coloraxis": {
                      "colorbar": {
                        "outlinewidth": 0,
                        "ticks": ""
                      }
                    },
                    "colorscale": {
                      "diverging": [
                        [
                          0,
                          "#8e0152"
                        ],
                        [
                          0.1,
                          "#c51b7d"
                        ],
                        [
                          0.2,
                          "#de77ae"
                        ],
                        [
                          0.3,
                          "#f1b6da"
                        ],
                        [
                          0.4,
                          "#fde0ef"
                        ],
                        [
                          0.5,
                          "#f7f7f7"
                        ],
                        [
                          0.6,
                          "#e6f5d0"
                        ],
                        [
                          0.7,
                          "#b8e186"
                        ],
                        [
                          0.8,
                          "#7fbc41"
                        ],
                        [
                          0.9,
                          "#4d9221"
                        ],
                        [
                          1,
                          "#276419"
                        ]
                      ],
                      "sequential": [
                        [
                          0,
                          "#0d0887"
                        ],
                        [
                          0.1111111111111111,
                          "#46039f"
                        ],
                        [
                          0.2222222222222222,
                          "#7201a8"
                        ],
                        [
                          0.3333333333333333,
                          "#9c179e"
                        ],
                        [
                          0.4444444444444444,
                          "#bd3786"
                        ],
                        [
                          0.5555555555555556,
                          "#d8576b"
                        ],
                        [
                          0.6666666666666666,
                          "#ed7953"
                        ],
                        [
                          0.7777777777777778,
                          "#fb9f3a"
                        ],
                        [
                          0.8888888888888888,
                          "#fdca26"
                        ],
                        [
                          1,
                          "#f0f921"
                        ]
                      ],
                      "sequentialminus": [
                        [
                          0,
                          "#0d0887"
                        ],
                        [
                          0.1111111111111111,
                          "#46039f"
                        ],
                        [
                          0.2222222222222222,
                          "#7201a8"
                        ],
                        [
                          0.3333333333333333,
                          "#9c179e"
                        ],
                        [
                          0.4444444444444444,
                          "#bd3786"
                        ],
                        [
                          0.5555555555555556,
                          "#d8576b"
                        ],
                        [
                          0.6666666666666666,
                          "#ed7953"
                        ],
                        [
                          0.7777777777777778,
                          "#fb9f3a"
                        ],
                        [
                          0.8888888888888888,
                          "#fdca26"
                        ],
                        [
                          1,
                          "#f0f921"
                        ]
                      ]
                    },
                    "colorway": [
                      "#636efa",
                      "#EF553B",
                      "#00cc96",
                      "#ab63fa",
                      "#FFA15A",
                      "#19d3f3",
                      "#FF6692",
                      "#B6E880",
                      "#FF97FF",
                      "#FECB52"
                    ],
                    "font": {
                      "color": "#2a3f5f"
                    },
                    "geo": {
                      "bgcolor": "white",
                      "lakecolor": "white",
                      "landcolor": "#E5ECF6",
                      "showlakes": true,
                      "showland": true,
                      "subunitcolor": "white"
                    },
                    "hoverlabel": {
                      "align": "left"
                    },
                    "hovermode": "closest",
                    "mapbox": {
                      "style": "light"
                    },
                    "paper_bgcolor": "white",
                    "plot_bgcolor": "#E5ECF6",
                    "polar": {
                      "angularaxis": {
                        "gridcolor": "white",
                        "linecolor": "white",
                        "ticks": ""
                      },
                      "bgcolor": "#E5ECF6",
                      "radialaxis": {
                        "gridcolor": "white",
                        "linecolor": "white",
                        "ticks": ""
                      }
                    },
                    "scene": {
                      "xaxis": {
                        "backgroundcolor": "#E5ECF6",
                        "gridcolor": "white",
                        "gridwidth": 2,
                        "linecolor": "white",
                        "showbackground": true,
                        "ticks": "",
                        "zerolinecolor": "white"
                      },
                      "yaxis": {
                        "backgroundcolor": "#E5ECF6",
                        "gridcolor": "white",
                        "gridwidth": 2,
                        "linecolor": "white",
                        "showbackground": true,
                        "ticks": "",
                        "zerolinecolor": "white"
                      },
                      "zaxis": {
                        "backgroundcolor": "#E5ECF6",
                        "gridcolor": "white",
                        "gridwidth": 2,
                        "linecolor": "white",
                        "showbackground": true,
                        "ticks": "",
                        "zerolinecolor": "white"
                      }
                    },
                    "shapedefaults": {
                      "line": {
                        "color": "#2a3f5f"
                      }
                    },
                    "ternary": {
                      "aaxis": {
                        "gridcolor": "white",
                        "linecolor": "white",
                        "ticks": ""
                      },
                      "baxis": {
                        "gridcolor": "white",
                        "linecolor": "white",
                        "ticks": ""
                      },
                      "bgcolor": "#E5ECF6",
                      "caxis": {
                        "gridcolor": "white",
                        "linecolor": "white",
                        "ticks": ""
                      }
                    },
                    "title": {
                      "x": 0.05
                    },
                    "xaxis": {
                      "automargin": true,
                      "gridcolor": "white",
                      "linecolor": "white",
                      "ticks": "",
                      "title": {
                        "standoff": 15
                      },
                      "zerolinecolor": "white",
                      "zerolinewidth": 2
                    },
                    "yaxis": {
                      "automargin": true,
                      "gridcolor": "white",
                      "linecolor": "white",
                      "ticks": "",
                      "title": {
                        "standoff": 15
                      },
                      "zerolinecolor": "white",
                      "zerolinewidth": 2
                    }
                  }
                },
                "xaxis": {
                  "anchor": "y",
                  "domain": [
                    0,
                    1
                  ],
                  "title": {
                    "text": "dim_tem_ano"
                  }
                },
                "yaxis": {
                  "anchor": "x",
                  "domain": [
                    0,
                    1
                  ],
                  "title": {
                    "text": "fat_ven_faturamento"
                  }
                }
              }
            }
          },
          "metadata": {},
          "output_type": "display_data"
        }
      ],
      "source": [
        "fig = px.line(data_frame=year_states, \n",
        "              x='dim_tem_ano', \n",
        "              y='fat_ven_faturamento', \n",
        "              color='dim_loj_estado')\n",
        "fig.show()"
      ]
    }
  ],
  "metadata": {
    "colab": {
      "collapsed_sections": [
        "b4364f6e"
      ],
      "name": "notebook.ipynb",
      "provenance": []
    },
    "kernelspec": {
      "display_name": "Python 3 (ipykernel)",
      "language": "python",
      "name": "python3"
    },
    "language_info": {
      "codemirror_mode": {
        "name": "ipython",
        "version": 3
      },
      "file_extension": ".py",
      "mimetype": "text/x-python",
      "name": "python",
      "nbconvert_exporter": "python",
      "pygments_lexer": "ipython3",
      "version": "3.9.7"
    }
  },
  "nbformat": 4,
  "nbformat_minor": 5
}
